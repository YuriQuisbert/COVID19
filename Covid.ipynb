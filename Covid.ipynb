{
  "nbformat": 4,
  "nbformat_minor": 0,
  "metadata": {
    "colab": {
      "name": "Covid.ipynb",
      "provenance": [],
      "collapsed_sections": [
        "4kVBFiGil2EY",
        "ze__HFBamLwH",
        "Kcv4V3O2CVb2",
        "ZhsBF_ZXCf1E",
        "KnBRXaQYyVuZ"
      ],
      "authorship_tag": "ABX9TyNP7dPPKXqSsvbcUM5gPGBp",
      "include_colab_link": true
    },
    "kernelspec": {
      "name": "python3",
      "display_name": "Python 3"
    },
    "language_info": {
      "name": "python"
    }
  },
  "cells": [
    {
      "cell_type": "markdown",
      "metadata": {
        "id": "view-in-github",
        "colab_type": "text"
      },
      "source": [
        "<a href=\"https://colab.research.google.com/github/YuriQuisbert/COVID19/blob/main/Covid.ipynb\" target=\"_parent\"><img src=\"https://colab.research.google.com/assets/colab-badge.svg\" alt=\"Open In Colab\"/></a>"
      ]
    },
    {
      "cell_type": "markdown",
      "source": [
        "*desenvolvido por:*\n",
        "\n",
        "\n",
        "<img alt=\"Colaboratory logo\" width=\"25%\" src=\"https://github.com/YuriQuisbert/pessoal/blob/main/Yuri%20Quisbert..png?raw=true\">\n",
        "\n",
        "---\n",
        "🚀 [*yuriquisbert.com.br*](yuriquisbert.com.br)\n",
        "\n",
        "---\n"
      ],
      "metadata": {
        "id": "08MEmqV95MSK"
      }
    },
    {
      "cell_type": "markdown",
      "source": [
        "# Panorama do COVID-19 no Brasil\n",
        "\n",
        "COVID-19 é uma doença infecciosa causada por recém-descoberto coronavírus.\n",
        "\n",
        "Transmitido principalmente por meio de gotículas provenientes de tosses ou espirros de pessoas infectadas, a gravidade dos sintomas varia muito de pessoa para pessoa.\n",
        "\n",
        "Fato é, não se sabe muita coisa a respeito do COVID-19. Estudos estão sendo realizados no mundo todo, porém os resultados ainda não são conclusivos e definitivos.\n",
        "\n",
        "<center><img alt=\"Colaboratory logo\" width=\"50%\" src=\"https://raw.githubusercontent.com/carlosfab/dsnp2/master/img/covid19.jpg\"></center>\n",
        "\n",
        "Até o presente momento, observa-se que cerca de 80% dos casos confirmados são assintomáticos e rápidos. A maioria das pessoas que se encaixam nesse grupo, se recupera sem nenhuma sequela.\n",
        "\n",
        "No entanto, 15% das pessoas terão infecções graves e precisarão de oxigênio. O restante das pessoas, que representam 5%, serão classificadas como infecções muito graves e precisarão de ventilação assistida, por meio de respiradores mecânicos em ambiente hospitalar.\n",
        "\n",
        "Com o objetivo de elevar a consciência situacional a respeito do COVID-19 no Brasil, irei realizar uma análise sobre os dados públicos da doença."
      ],
      "metadata": {
        "id": "PeDSKh3w1ugS"
      }
    },
    {
      "cell_type": "markdown",
      "source": [
        "# Dicionário de Variáveis\n"
      ],
      "metadata": {
        "id": "4kVBFiGil2EY"
      }
    },
    {
      "cell_type": "markdown",
      "source": [
        "Para a análise dos casos de COVID19, foi utilizado o database encontrado no link: https://raw.githubusercontent.com/owid/covid-19-data/master/public/data/owid-covid-data.csv\n",
        "\n",
        "Esse repositório é atualizado diariamente, de maneira que, é importante salientar que o projeto foi desenvolvido no dia 10/06/2022 e que dependendo do dia que for feita a consulta a esse database, ele pode estar diferente.\n",
        "\n",
        "Em seguida veremos um dicionário de variáveis, onde está disposta da seguinte maneira:\n",
        "\n",
        "* `nome_original` `nome_traduzido`: Breve descrição da variável\n",
        "\n",
        "Ao total são 67 colunas! De maneira que nem todas foram utilizadas no desenvolvimento deste relatório."
      ],
      "metadata": {
        "id": "FnfoT2lb2Ein"
      }
    },
    {
      "cell_type": "markdown",
      "source": [
        "* `iso_code` `ISO_codigo`: ISO 3166-1 Alpha-3-Códigos de país de três letras\n",
        "* `continent` `continente`: Continente da localização geográfica\n",
        "* `location` `localizacao`: Localização geográfica\n",
        "* `date` `data`: Data de observação\n",
        "* `total_cases` `total_casos`: Casos totais confirmados de covid-19. As contagens podem incluir casos prováveis, onde relatados.\n",
        "* `new_cases` `novos_casos`: Novos casos confirmados de covid-19. As contagens podem incluir casos prováveis, onde relatados. Em casos raros em que nossa fonte relata uma mudança diária negativa devido a uma correção de dados, definimos essa métrica para NA.\n",
        "* `new_cases_smoothed` `novos_casos_suavizado`: Novos casos confirmados de Covid-19 (7 dias suavizados). As contagens podem incluir casos prováveis, onde relatados.\n",
        "* `total_deaths` `total_mortes`: Mortes totais atribuídas a Covid-19. As contagens podem incluir mortes prováveis, onde relatadas.\n",
        "* `new_deaths` `novas_mortes`: Novas mortes atribuídas a Covid-19. As contagens podem incluir mortes prováveis, onde relatadas. Em casos raros em que nossa fonte relata uma mudança diária negativa devido a uma correção de dados, definimos essa métrica para NA.\n",
        "* `new_deaths_smoothed` `novas_mortes_suavizado`: Novas mortes atribuídas a Covid-19 (7 dias suavizados). As contagens podem incluir mortes prováveis, onde relatadas.\n",
        "* `total_cases_per_million` `total_casos_por_milhão`: Total de casos confirmados de Covid-19 por 1.000.000 de pessoas. As contagens podem incluir casos prováveis, onde relatados.\n",
        "* `new_cases_per_million` `novos_casos_por_milhão`: Novos casos confirmados de Covid-19 por 1.000.000 de pessoas. As contagens podem incluir casos prováveis, onde relatados.\n",
        "* `new_cases_smoothed_per_million` `novos_casos_suavizado_por_milhão`: Novos casos confirmados de Covid-19 (7 dias suavizados) por 1.000.000 de pessoas. As contagens podem incluir casos prováveis, onde relatados.\n",
        "* `total_deaths_per_million` `total_mortes_por_milhão`: Mortes totais atribuídas a Covid-19 por 1.000.000 de pessoas. As contagens podem incluir mortes prováveis, onde relatadas.\n",
        "* `new_deaths_per_million` `novas_mortes_por_milhão`: Novas mortes atribuídas a Covid-19 por 1.000.000 de pessoas. As contagens podem incluir mortes prováveis, onde relatadas.\n",
        "* `new_deaths_smoothed_per_million` `novas_mortes_suavizado_por_milhão`: Novas mortes atribuídas a Covid-19 (7 dias suavizadas) por 1.000.000 de pessoas. As contagens podem incluir mortes prováveis, onde relatadas.\n",
        "* `reproduction_rate` `taxa_reprodução`: Estimativa em tempo real da taxa efetiva de reprodução (R) de Covid-19. Consulte https://github.com/crondonm/trackingr/tree/main/estimates-database\n",
        "* `icu_patients` `UTI_pacientes`: Número de pacientes covid-19 em unidades de terapia intensiva (UTIs) em um determinado dia\n",
        "* `icu_patients_per_million` `UTI_pacientes_por_milhão`: Número de pacientes covid-19 em unidades de terapia intensiva (UTIs) em um determinado dia por 1.000.000 de pessoas\n",
        "* `hosp_patients` `Hosp_pacientes`: Número de pacientes covid-19 no hospital em um determinado dia\n",
        "* `hosp_patients_per_million` `Hosp_pacientes_por_milhão`: Número de pacientes covid-19 no hospital em um determinado dia por 1.000.000 de pessoas\n",
        "* `weekly_icu_admissions` `semanalmente_UTI_Admissoes`: Número de pacientes com Covid-19 recém-admitidos em unidades de terapia intensiva (UTIs) em uma determinada semana (data de relatório e 6 dias anteriores)\n",
        "* `weekly_icu_admissions_per_million` `semanalmente_UTI_Admissoes_por_milhão`: Número de pacientes com Covid-19 recém-admitidos em unidades de terapia intensiva (UTIs) em uma determinada semana por 1.000.000 de pessoas (data de relatório e os 6 dias anteriores)\n",
        "* `weekly_hosp_admissions` `semanalmente_Hosp_Admissoes`: Número de pacientes covid-19 recém-admitidos em hospitais em uma determinada semana (data de relatório e os 6 dias anteriores)\n",
        "* `weekly_hosp_admissions_per_million` `semanalmente_Hosp_Admissoes_por_milhão`: Número de pacientes covid-19 recém-admitidos em hospitais em uma determinada semana por 1.000.000 de pessoas (data de relatório e os 6 dias anteriores)\n",
        "* `total_tests` `total_testes`: Testes totais para Covid-19\n",
        "* `new_tests` `novos_testes`: Novos testes para Covid-19 (calculados apenas para dias consecutivos)\n",
        "* `total_tests_per_thousand` `total_testes_por_mil`: TOTAL DE TESTES PARA COVID-19 por 1.000 pessoas\n",
        "* `new_tests_per_thousand` `novo_testes_por_mil`: Novos testes para Covid-19 por 1.000 pessoas\n",
        "* `new_tests_smoothed` `novo_testes_suavizado`: Novos testes para Covid-19 (7 dias suavizados). Para países que não relatam dados de teste diariamente, assumimos que o teste mudou igualmente diariamente em qualquer período em que nenhum dados foi relatado. Isso produz uma série completa de números diários, que é calculada a média de uma janela rolante de 7 dias\n",
        "* `new_tests_smoothed_per_thousand` `novo_testes_suavizado_por_mil`: Novos testes para Covid-19 (7 dias suavizados) por 1.000 pessoas\n",
        "* `positive_rate` `positivo_avaliar`: A parte dos testes Covid-19 que são positivos, dados como uma média de 7 dias (este é o inverso de tests_per_case)\n",
        "* `tests_per_case` `testes_por_caso`: Testes realizados por novo caso confirmado de Covid-19, dado como uma média rolante de 7 dias (este é o inverso do positivo_rate)\n",
        "* `tests_units` `testes_unidades`: Unidades usadas pelo local para relatar seus dados de teste\n",
        "* `total_vaccinations` `total_Vacinas`: Número total de doses de vacinação covid-19 administradas\n",
        "* `people_vaccinated` `pessoas_vacinado`: Número total de pessoas que receberam pelo menos uma dose de vacina\n",
        "* `people_fully_vaccinated` `pessoas_totalmente_vacinado`: Número total de pessoas que receberam todas as doses prescritas pelo protocolo de vacinação inicial\n",
        "* `total_boosters` `total_reforco`: Número total de doses de reforço de vacinação covid-19 administradas (doses administradas além do número prescrito pelo protocolo de vacinação)\n",
        "* `new_vaccinations` `novo_Vacinas`: Novas doses de vacinação covid-19 administradas (calculadas apenas por dias consecutivos)\n",
        "* `new_vaccinations_smoothed` `novo_Vacinas_suavizado`: Novas doses de vacinação covid-19 administradas (7 dias suavizadas). Para países que não relatam dados de vacinação diariamente, assumimos que a vacinação mudou igualmente diariamente em qualquer período em que nenhum dados foi relatado. Isso produz uma série completa de números diários, que é calculada a média de uma janela rolante de 7 dias\n",
        "* `total_vaccinations_per_hundred` `total_Vacinas_por_centenas`: Número total de doses de vacinação covid-19 administradas por 100 pessoas na população total\n",
        "* `people_vaccinated_per_hundred` `pessoas_vacinado_por_centenas`: Número total de pessoas que receberam pelo menos uma dose de vacina por 100 pessoas na população total\n",
        "* `people_fully_vaccinated_per_hundred` `pessoas_totalmente_vacinado_por_centenas`: Número total de pessoas que receberam todas as doses prescritas pelo protocolo de vacinação inicial por 100 pessoas na população total\n",
        "* `total_boosters_per_hundred` `total_Boosters_por_centenas`: Número total de doses de reforço de vacinação covid-19 administradas por 100 pessoas na população total\n",
        "* `new_vaccinations_smoothed_per_million` `novo_Vacinas_suavizado_por_milhão`: Novas doses de vacinação covid-19 administradas (7 dias suavizadas) por 1.000.000 de pessoas na população total\n",
        "* `new_people_vaccinated_smoothed` `novo_pessoas_vacinado_suavizado`: Número diário de pessoas que recebem sua primeira dose de vacina (7 dias suavizados)\n",
        "* `new_people_vaccinated_smoothed_per_hundred` `novo_pessoas_vacinado_suavizado_por_centenas`: Número diário de pessoas que recebem sua primeira dose de vacina (7 dias suavizados) por 100 pessoas na população total\n",
        "* `stringency_index` `rigor_índice`: Índice de rigor de resposta do governo: medida composta composta com 9 indicadores de resposta, incluindo fechamento escolar, fechamento de trabalho e proibições de viagem, redimensionado a um valor de 0 a 100 (100 = resposta mais rigorosa)\n",
        "* `population` `população`: População (valores mais recentes disponíveis). Veja https://github.com/owid/covid-data/blob/master/scripts/input/un/population_latest.csv para obter uma lista completa de fontes\n",
        "* `population_density` `população_densidade`: Número de pessoas divididas pela área terrestre, medidas em quilômetros quadrados, mais recente disponível\n",
        "* `median_age` `mediana_era`: Idade mediana da população, projeção da ONU para 2020\n",
        "* `aged_65_older` `65anos`: Participação na população com 65 anos ou mais, mais recente, disponível\n",
        "* `aged_70_older` `75anos`: Participação da população com 70 anos ou mais em 2015\n",
        "* `gdp_per_capita` `PIB_por_Capita`: Produto interno bruto na paridade do poder de compra (constante dólares internacionais de 2011), mais recente ano disponível\n",
        "* `extreme_poverty` `extremo_pobreza`: Participação da população que vive em extrema pobreza, mais recente ano disponível desde 2010\n",
        "* `cardiovasc_death_rate` `cardiovasc_morte_avaliar`: Taxa de mortalidade por doença cardiovascular em 2017 (número anual de mortes por 100.000 pessoas)\n",
        "* `diabetes_prevalence` `diabetes_prevalência`: Prevalência de diabetes (% da população de 20 a 79 anos) em 2017\n",
        "* `female_smokers` `mulheres_fumantes`: Parte de mulheres que fumam, mais recente ano disponível\n",
        "* `male_smokers` `homens_fumantes`: Compartilhamento de homens que fumam, mais recente ano disponível\n",
        "* `handwashing_facilities` `lavar_as_maos`: Participação da população com instalações básicas de lavagem das mãos em instalações, mais recente ano disponível\n",
        "* `hospital_beds_per_thousand` `hospital_camas_por_mil`: Camas hospitalares por 1.000 pessoas, mais recente disponível desde 2010\n",
        "* `life_expectancy` `vida_expectativa`: Expectativa de vida no nascimento em 2019\n",
        "* `human_development_index` `idh`: Um índice composto que mede o desempenho médio em três dimensões básicas do desenvolvimento humano - uma vida longa e saudável, conhecimento e um padrão de vida decente. Valores para 2019, importados de http://hdr.undp.org/en/indicators/137506\n",
        "* `excess_mortality` `excesso_mortalidade`: Diferença percentual entre o número relatado de mortes semanais ou mensais em 2020-2021 e o número projetado de mortes pelo mesmo período com base nos anos anteriores. Para mais informações, consulte https://github.com/owid/covid-19-data/tree/master/public/data/excess_mortality\n",
        "* `excess_mortality_cumulative` `excesso_mortalidade_cumulativo`: Diferença percentual entre o número cumulativo de mortes desde 1 de janeiro de 2020 e as mortes acumuladas projetadas pelo mesmo período com base nos anos anteriores. Para mais informações, consulte https://github.com/owid/covid-19-data/tree/master/public/data/excess_mortality\n",
        "* `excess_mortality_cumulative_absolute` `excesso_mortalidade_cumulativo_absoluto`: Diferença cumulativa entre o número relatado de mortes desde 1º de janeiro de 2020 e o número projetado de mortes no mesmo período com base nos anos anteriores. Para mais informações, consulte https://github.com/owid/covid-19-data/tree/master/public/data/excess_mortality\n",
        "* `excess_mortality_cumulative_per_million` `excesso_mortalidade_cumulativo_por_milhão`: Diferença cumulativa entre o número relatado de mortes desde 1º de janeiro de 2020 e o número projetado de mortes no mesmo período com base nos anos anteriores, por milhão de pessoas. Para mais informações, consulte https://github.com/owid/covid-19-data/tree/master/public/data/excess_mortality\n",
        "\n"
      ],
      "metadata": {
        "id": "T5TXurPlWRql"
      }
    },
    {
      "cell_type": "markdown",
      "source": [
        "# Importação"
      ],
      "metadata": {
        "id": "ze__HFBamLwH"
      }
    },
    {
      "cell_type": "markdown",
      "source": [
        "Nesta primeira etapa vou realizar a importação das bibliotecas e do *database* que serão utilizados, uma breve apresentação da tabela, a avaliação dos dados ausentes e correções de tipos de variáveis.\n",
        "\n",
        "---"
      ],
      "metadata": {
        "id": "ueA5gLnz4EOd"
      }
    },
    {
      "cell_type": "code",
      "source": [
        "import pandas as pd\n",
        "import matplotlib.pyplot as plt\n",
        "import seaborn as sns\n",
        "from matplotlib.pyplot import figure\n",
        "\n",
        "covid = pd.read_csv('https://raw.githubusercontent.com/owid/covid-19-data/master/public/data/owid-covid-data.csv')"
      ],
      "metadata": {
        "id": "iHJsSQjqmPvw"
      },
      "execution_count": null,
      "outputs": []
    },
    {
      "cell_type": "code",
      "source": [
        "covid.head()"
      ],
      "metadata": {
        "colab": {
          "base_uri": "https://localhost:8080/"
        },
        "id": "hWZJAHwGmhr6",
        "outputId": "62ce0899-0eed-42eb-db3b-312a44fff022"
      },
      "execution_count": null,
      "outputs": [
        {
          "output_type": "execute_result",
          "data": {
            "text/plain": [
              "  iso_code continent     location        date  total_cases  new_cases  \\\n",
              "0      AFG      Asia  Afghanistan  2020-02-24          5.0        5.0   \n",
              "1      AFG      Asia  Afghanistan  2020-02-25          5.0        0.0   \n",
              "2      AFG      Asia  Afghanistan  2020-02-26          5.0        0.0   \n",
              "3      AFG      Asia  Afghanistan  2020-02-27          5.0        0.0   \n",
              "4      AFG      Asia  Afghanistan  2020-02-28          5.0        0.0   \n",
              "\n",
              "   new_cases_smoothed  total_deaths  new_deaths  new_deaths_smoothed  ...  \\\n",
              "0                 NaN           NaN         NaN                  NaN  ...   \n",
              "1                 NaN           NaN         NaN                  NaN  ...   \n",
              "2                 NaN           NaN         NaN                  NaN  ...   \n",
              "3                 NaN           NaN         NaN                  NaN  ...   \n",
              "4                 NaN           NaN         NaN                  NaN  ...   \n",
              "\n",
              "   female_smokers  male_smokers  handwashing_facilities  \\\n",
              "0             NaN           NaN                  37.746   \n",
              "1             NaN           NaN                  37.746   \n",
              "2             NaN           NaN                  37.746   \n",
              "3             NaN           NaN                  37.746   \n",
              "4             NaN           NaN                  37.746   \n",
              "\n",
              "   hospital_beds_per_thousand  life_expectancy  human_development_index  \\\n",
              "0                         0.5            64.83                    0.511   \n",
              "1                         0.5            64.83                    0.511   \n",
              "2                         0.5            64.83                    0.511   \n",
              "3                         0.5            64.83                    0.511   \n",
              "4                         0.5            64.83                    0.511   \n",
              "\n",
              "   excess_mortality_cumulative_absolute  excess_mortality_cumulative  \\\n",
              "0                                   NaN                          NaN   \n",
              "1                                   NaN                          NaN   \n",
              "2                                   NaN                          NaN   \n",
              "3                                   NaN                          NaN   \n",
              "4                                   NaN                          NaN   \n",
              "\n",
              "   excess_mortality  excess_mortality_cumulative_per_million  \n",
              "0               NaN                                      NaN  \n",
              "1               NaN                                      NaN  \n",
              "2               NaN                                      NaN  \n",
              "3               NaN                                      NaN  \n",
              "4               NaN                                      NaN  \n",
              "\n",
              "[5 rows x 67 columns]"
            ],
            "text/html": [
              "\n",
              "  <div id=\"df-b9a836a3-f0e2-435e-be71-a0a673a5ce3b\">\n",
              "    <div class=\"colab-df-container\">\n",
              "      <div>\n",
              "<style scoped>\n",
              "    .dataframe tbody tr th:only-of-type {\n",
              "        vertical-align: middle;\n",
              "    }\n",
              "\n",
              "    .dataframe tbody tr th {\n",
              "        vertical-align: top;\n",
              "    }\n",
              "\n",
              "    .dataframe thead th {\n",
              "        text-align: right;\n",
              "    }\n",
              "</style>\n",
              "<table border=\"1\" class=\"dataframe\">\n",
              "  <thead>\n",
              "    <tr style=\"text-align: right;\">\n",
              "      <th></th>\n",
              "      <th>iso_code</th>\n",
              "      <th>continent</th>\n",
              "      <th>location</th>\n",
              "      <th>date</th>\n",
              "      <th>total_cases</th>\n",
              "      <th>new_cases</th>\n",
              "      <th>new_cases_smoothed</th>\n",
              "      <th>total_deaths</th>\n",
              "      <th>new_deaths</th>\n",
              "      <th>new_deaths_smoothed</th>\n",
              "      <th>...</th>\n",
              "      <th>female_smokers</th>\n",
              "      <th>male_smokers</th>\n",
              "      <th>handwashing_facilities</th>\n",
              "      <th>hospital_beds_per_thousand</th>\n",
              "      <th>life_expectancy</th>\n",
              "      <th>human_development_index</th>\n",
              "      <th>excess_mortality_cumulative_absolute</th>\n",
              "      <th>excess_mortality_cumulative</th>\n",
              "      <th>excess_mortality</th>\n",
              "      <th>excess_mortality_cumulative_per_million</th>\n",
              "    </tr>\n",
              "  </thead>\n",
              "  <tbody>\n",
              "    <tr>\n",
              "      <th>0</th>\n",
              "      <td>AFG</td>\n",
              "      <td>Asia</td>\n",
              "      <td>Afghanistan</td>\n",
              "      <td>2020-02-24</td>\n",
              "      <td>5.0</td>\n",
              "      <td>5.0</td>\n",
              "      <td>NaN</td>\n",
              "      <td>NaN</td>\n",
              "      <td>NaN</td>\n",
              "      <td>NaN</td>\n",
              "      <td>...</td>\n",
              "      <td>NaN</td>\n",
              "      <td>NaN</td>\n",
              "      <td>37.746</td>\n",
              "      <td>0.5</td>\n",
              "      <td>64.83</td>\n",
              "      <td>0.511</td>\n",
              "      <td>NaN</td>\n",
              "      <td>NaN</td>\n",
              "      <td>NaN</td>\n",
              "      <td>NaN</td>\n",
              "    </tr>\n",
              "    <tr>\n",
              "      <th>1</th>\n",
              "      <td>AFG</td>\n",
              "      <td>Asia</td>\n",
              "      <td>Afghanistan</td>\n",
              "      <td>2020-02-25</td>\n",
              "      <td>5.0</td>\n",
              "      <td>0.0</td>\n",
              "      <td>NaN</td>\n",
              "      <td>NaN</td>\n",
              "      <td>NaN</td>\n",
              "      <td>NaN</td>\n",
              "      <td>...</td>\n",
              "      <td>NaN</td>\n",
              "      <td>NaN</td>\n",
              "      <td>37.746</td>\n",
              "      <td>0.5</td>\n",
              "      <td>64.83</td>\n",
              "      <td>0.511</td>\n",
              "      <td>NaN</td>\n",
              "      <td>NaN</td>\n",
              "      <td>NaN</td>\n",
              "      <td>NaN</td>\n",
              "    </tr>\n",
              "    <tr>\n",
              "      <th>2</th>\n",
              "      <td>AFG</td>\n",
              "      <td>Asia</td>\n",
              "      <td>Afghanistan</td>\n",
              "      <td>2020-02-26</td>\n",
              "      <td>5.0</td>\n",
              "      <td>0.0</td>\n",
              "      <td>NaN</td>\n",
              "      <td>NaN</td>\n",
              "      <td>NaN</td>\n",
              "      <td>NaN</td>\n",
              "      <td>...</td>\n",
              "      <td>NaN</td>\n",
              "      <td>NaN</td>\n",
              "      <td>37.746</td>\n",
              "      <td>0.5</td>\n",
              "      <td>64.83</td>\n",
              "      <td>0.511</td>\n",
              "      <td>NaN</td>\n",
              "      <td>NaN</td>\n",
              "      <td>NaN</td>\n",
              "      <td>NaN</td>\n",
              "    </tr>\n",
              "    <tr>\n",
              "      <th>3</th>\n",
              "      <td>AFG</td>\n",
              "      <td>Asia</td>\n",
              "      <td>Afghanistan</td>\n",
              "      <td>2020-02-27</td>\n",
              "      <td>5.0</td>\n",
              "      <td>0.0</td>\n",
              "      <td>NaN</td>\n",
              "      <td>NaN</td>\n",
              "      <td>NaN</td>\n",
              "      <td>NaN</td>\n",
              "      <td>...</td>\n",
              "      <td>NaN</td>\n",
              "      <td>NaN</td>\n",
              "      <td>37.746</td>\n",
              "      <td>0.5</td>\n",
              "      <td>64.83</td>\n",
              "      <td>0.511</td>\n",
              "      <td>NaN</td>\n",
              "      <td>NaN</td>\n",
              "      <td>NaN</td>\n",
              "      <td>NaN</td>\n",
              "    </tr>\n",
              "    <tr>\n",
              "      <th>4</th>\n",
              "      <td>AFG</td>\n",
              "      <td>Asia</td>\n",
              "      <td>Afghanistan</td>\n",
              "      <td>2020-02-28</td>\n",
              "      <td>5.0</td>\n",
              "      <td>0.0</td>\n",
              "      <td>NaN</td>\n",
              "      <td>NaN</td>\n",
              "      <td>NaN</td>\n",
              "      <td>NaN</td>\n",
              "      <td>...</td>\n",
              "      <td>NaN</td>\n",
              "      <td>NaN</td>\n",
              "      <td>37.746</td>\n",
              "      <td>0.5</td>\n",
              "      <td>64.83</td>\n",
              "      <td>0.511</td>\n",
              "      <td>NaN</td>\n",
              "      <td>NaN</td>\n",
              "      <td>NaN</td>\n",
              "      <td>NaN</td>\n",
              "    </tr>\n",
              "  </tbody>\n",
              "</table>\n",
              "<p>5 rows × 67 columns</p>\n",
              "</div>\n",
              "      <button class=\"colab-df-convert\" onclick=\"convertToInteractive('df-b9a836a3-f0e2-435e-be71-a0a673a5ce3b')\"\n",
              "              title=\"Convert this dataframe to an interactive table.\"\n",
              "              style=\"display:none;\">\n",
              "        \n",
              "  <svg xmlns=\"http://www.w3.org/2000/svg\" height=\"24px\"viewBox=\"0 0 24 24\"\n",
              "       width=\"24px\">\n",
              "    <path d=\"M0 0h24v24H0V0z\" fill=\"none\"/>\n",
              "    <path d=\"M18.56 5.44l.94 2.06.94-2.06 2.06-.94-2.06-.94-.94-2.06-.94 2.06-2.06.94zm-11 1L8.5 8.5l.94-2.06 2.06-.94-2.06-.94L8.5 2.5l-.94 2.06-2.06.94zm10 10l.94 2.06.94-2.06 2.06-.94-2.06-.94-.94-2.06-.94 2.06-2.06.94z\"/><path d=\"M17.41 7.96l-1.37-1.37c-.4-.4-.92-.59-1.43-.59-.52 0-1.04.2-1.43.59L10.3 9.45l-7.72 7.72c-.78.78-.78 2.05 0 2.83L4 21.41c.39.39.9.59 1.41.59.51 0 1.02-.2 1.41-.59l7.78-7.78 2.81-2.81c.8-.78.8-2.07 0-2.86zM5.41 20L4 18.59l7.72-7.72 1.47 1.35L5.41 20z\"/>\n",
              "  </svg>\n",
              "      </button>\n",
              "      \n",
              "  <style>\n",
              "    .colab-df-container {\n",
              "      display:flex;\n",
              "      flex-wrap:wrap;\n",
              "      gap: 12px;\n",
              "    }\n",
              "\n",
              "    .colab-df-convert {\n",
              "      background-color: #E8F0FE;\n",
              "      border: none;\n",
              "      border-radius: 50%;\n",
              "      cursor: pointer;\n",
              "      display: none;\n",
              "      fill: #1967D2;\n",
              "      height: 32px;\n",
              "      padding: 0 0 0 0;\n",
              "      width: 32px;\n",
              "    }\n",
              "\n",
              "    .colab-df-convert:hover {\n",
              "      background-color: #E2EBFA;\n",
              "      box-shadow: 0px 1px 2px rgba(60, 64, 67, 0.3), 0px 1px 3px 1px rgba(60, 64, 67, 0.15);\n",
              "      fill: #174EA6;\n",
              "    }\n",
              "\n",
              "    [theme=dark] .colab-df-convert {\n",
              "      background-color: #3B4455;\n",
              "      fill: #D2E3FC;\n",
              "    }\n",
              "\n",
              "    [theme=dark] .colab-df-convert:hover {\n",
              "      background-color: #434B5C;\n",
              "      box-shadow: 0px 1px 3px 1px rgba(0, 0, 0, 0.15);\n",
              "      filter: drop-shadow(0px 1px 2px rgba(0, 0, 0, 0.3));\n",
              "      fill: #FFFFFF;\n",
              "    }\n",
              "  </style>\n",
              "\n",
              "      <script>\n",
              "        const buttonEl =\n",
              "          document.querySelector('#df-b9a836a3-f0e2-435e-be71-a0a673a5ce3b button.colab-df-convert');\n",
              "        buttonEl.style.display =\n",
              "          google.colab.kernel.accessAllowed ? 'block' : 'none';\n",
              "\n",
              "        async function convertToInteractive(key) {\n",
              "          const element = document.querySelector('#df-b9a836a3-f0e2-435e-be71-a0a673a5ce3b');\n",
              "          const dataTable =\n",
              "            await google.colab.kernel.invokeFunction('convertToInteractive',\n",
              "                                                     [key], {});\n",
              "          if (!dataTable) return;\n",
              "\n",
              "          const docLinkHtml = 'Like what you see? Visit the ' +\n",
              "            '<a target=\"_blank\" href=https://colab.research.google.com/notebooks/data_table.ipynb>data table notebook</a>'\n",
              "            + ' to learn more about interactive tables.';\n",
              "          element.innerHTML = '';\n",
              "          dataTable['output_type'] = 'display_data';\n",
              "          await google.colab.output.renderOutput(dataTable, element);\n",
              "          const docLink = document.createElement('div');\n",
              "          docLink.innerHTML = docLinkHtml;\n",
              "          element.appendChild(docLink);\n",
              "        }\n",
              "      </script>\n",
              "    </div>\n",
              "  </div>\n",
              "  "
            ]
          },
          "metadata": {},
          "execution_count": 2
        }
      ]
    },
    {
      "cell_type": "code",
      "source": [
        "covid.dtypes"
      ],
      "metadata": {
        "colab": {
          "base_uri": "https://localhost:8080/"
        },
        "id": "zrYno2yRPQCH",
        "outputId": "44b796b9-effd-4eb3-e55b-115384aac9e6"
      },
      "execution_count": null,
      "outputs": [
        {
          "output_type": "execute_result",
          "data": {
            "text/plain": [
              "iso_code                                    object\n",
              "continent                                   object\n",
              "location                                    object\n",
              "date                                        object\n",
              "total_cases                                float64\n",
              "                                            ...   \n",
              "human_development_index                    float64\n",
              "excess_mortality_cumulative_absolute       float64\n",
              "excess_mortality_cumulative                float64\n",
              "excess_mortality                           float64\n",
              "excess_mortality_cumulative_per_million    float64\n",
              "Length: 67, dtype: object"
            ]
          },
          "metadata": {},
          "execution_count": 3
        }
      ]
    },
    {
      "cell_type": "markdown",
      "source": [
        "Como podemos ver, a coluna `date` está classificada como **object**, a seguir irei fazer a conversão para o tipo **DateTime**\n"
      ],
      "metadata": {
        "id": "r0EPvw4R4vKU"
      }
    },
    {
      "cell_type": "code",
      "source": [
        "covid['date'] = pd.to_datetime(covid['date'], format = '%Y-%m-%d')"
      ],
      "metadata": {
        "id": "-D-TOMcE7ajC"
      },
      "execution_count": null,
      "outputs": []
    },
    {
      "cell_type": "code",
      "source": [
        "(covid.isnull().sum() / covid.shape[0]).sort_values(ascending=False)[:20]"
      ],
      "metadata": {
        "colab": {
          "base_uri": "https://localhost:8080/"
        },
        "id": "RCs9MJ6MPWkl",
        "outputId": "84dfb2e4-b574-404d-8bc0-85fd6f9f52eb"
      },
      "execution_count": null,
      "outputs": [
        {
          "output_type": "execute_result",
          "data": {
            "text/plain": [
              "weekly_icu_admissions                      0.967500\n",
              "weekly_icu_admissions_per_million          0.967500\n",
              "excess_mortality_cumulative_absolute       0.965856\n",
              "excess_mortality_cumulative_per_million    0.965856\n",
              "excess_mortality_cumulative                0.965856\n",
              "excess_mortality                           0.965856\n",
              "weekly_hosp_admissions_per_million         0.935268\n",
              "weekly_hosp_admissions                     0.935268\n",
              "total_boosters_per_hundred                 0.870273\n",
              "total_boosters                             0.870273\n",
              "icu_patients                               0.867078\n",
              "icu_patients_per_million                   0.867078\n",
              "hosp_patients_per_million                  0.860659\n",
              "hosp_patients                              0.860659\n",
              "new_vaccinations                           0.775134\n",
              "people_fully_vaccinated_per_hundred        0.751668\n",
              "people_fully_vaccinated                    0.751668\n",
              "people_vaccinated                          0.738721\n",
              "people_vaccinated_per_hundred              0.738721\n",
              "total_vaccinations                         0.725665\n",
              "dtype: float64"
            ]
          },
          "metadata": {},
          "execution_count": 5
        }
      ]
    },
    {
      "cell_type": "markdown",
      "source": [
        "Como é possível perceber, grande parte dos dados são ausentes (chegando a mais de 96% em alguns casos), por sorte, são de colunas que não serão utilizadas na análise e isso não afetará a qualidade do projeto.\n",
        "\n",
        "---"
      ],
      "metadata": {
        "id": "5thwoZex5GEy"
      }
    },
    {
      "cell_type": "markdown",
      "source": [
        "# **Análises Gerais**"
      ],
      "metadata": {
        "id": "EkwpT2Hlrxqp"
      }
    },
    {
      "cell_type": "markdown",
      "source": [
        "É nesta segunda etapa que a Análise começa efetivamente, aqui buscarei trazer alguns dados do **COVID Mundial**.\n",
        "\n",
        "---"
      ],
      "metadata": {
        "id": "ZMZD9S0n6Exz"
      }
    },
    {
      "cell_type": "code",
      "source": [
        "#Descrição do database\n",
        "geral = covid[['continent','location','date','total_cases','new_cases','total_deaths','new_deaths','people_vaccinated','new_vaccinations','icu_patients', 'gdp_per_capita', 'stringency_index', 'population','new_cases_smoothed', 'new_deaths_smoothed']]\n",
        "geral.head()"
      ],
      "metadata": {
        "colab": {
          "base_uri": "https://localhost:8080/",
          "height": 357
        },
        "id": "p17gSxNAr4Y1",
        "outputId": "d1421c63-56c5-4b37-d021-ccdd6a5c0f06"
      },
      "execution_count": null,
      "outputs": [
        {
          "output_type": "execute_result",
          "data": {
            "text/plain": [
              "  continent     location       date  total_cases  new_cases  total_deaths  \\\n",
              "0      Asia  Afghanistan 2020-02-24          5.0        5.0           NaN   \n",
              "1      Asia  Afghanistan 2020-02-25          5.0        0.0           NaN   \n",
              "2      Asia  Afghanistan 2020-02-26          5.0        0.0           NaN   \n",
              "3      Asia  Afghanistan 2020-02-27          5.0        0.0           NaN   \n",
              "4      Asia  Afghanistan 2020-02-28          5.0        0.0           NaN   \n",
              "\n",
              "   new_deaths  people_vaccinated  new_vaccinations  icu_patients  \\\n",
              "0         NaN                NaN               NaN           NaN   \n",
              "1         NaN                NaN               NaN           NaN   \n",
              "2         NaN                NaN               NaN           NaN   \n",
              "3         NaN                NaN               NaN           NaN   \n",
              "4         NaN                NaN               NaN           NaN   \n",
              "\n",
              "   gdp_per_capita  stringency_index  population  new_cases_smoothed  \\\n",
              "0        1803.987              8.33  39835428.0                 NaN   \n",
              "1        1803.987              8.33  39835428.0                 NaN   \n",
              "2        1803.987              8.33  39835428.0                 NaN   \n",
              "3        1803.987              8.33  39835428.0                 NaN   \n",
              "4        1803.987              8.33  39835428.0                 NaN   \n",
              "\n",
              "   new_deaths_smoothed  \n",
              "0                  NaN  \n",
              "1                  NaN  \n",
              "2                  NaN  \n",
              "3                  NaN  \n",
              "4                  NaN  "
            ],
            "text/html": [
              "\n",
              "  <div id=\"df-93efd482-ed73-4142-997c-ec5aaa0aaa72\">\n",
              "    <div class=\"colab-df-container\">\n",
              "      <div>\n",
              "<style scoped>\n",
              "    .dataframe tbody tr th:only-of-type {\n",
              "        vertical-align: middle;\n",
              "    }\n",
              "\n",
              "    .dataframe tbody tr th {\n",
              "        vertical-align: top;\n",
              "    }\n",
              "\n",
              "    .dataframe thead th {\n",
              "        text-align: right;\n",
              "    }\n",
              "</style>\n",
              "<table border=\"1\" class=\"dataframe\">\n",
              "  <thead>\n",
              "    <tr style=\"text-align: right;\">\n",
              "      <th></th>\n",
              "      <th>continent</th>\n",
              "      <th>location</th>\n",
              "      <th>date</th>\n",
              "      <th>total_cases</th>\n",
              "      <th>new_cases</th>\n",
              "      <th>total_deaths</th>\n",
              "      <th>new_deaths</th>\n",
              "      <th>people_vaccinated</th>\n",
              "      <th>new_vaccinations</th>\n",
              "      <th>icu_patients</th>\n",
              "      <th>gdp_per_capita</th>\n",
              "      <th>stringency_index</th>\n",
              "      <th>population</th>\n",
              "      <th>new_cases_smoothed</th>\n",
              "      <th>new_deaths_smoothed</th>\n",
              "    </tr>\n",
              "  </thead>\n",
              "  <tbody>\n",
              "    <tr>\n",
              "      <th>0</th>\n",
              "      <td>Asia</td>\n",
              "      <td>Afghanistan</td>\n",
              "      <td>2020-02-24</td>\n",
              "      <td>5.0</td>\n",
              "      <td>5.0</td>\n",
              "      <td>NaN</td>\n",
              "      <td>NaN</td>\n",
              "      <td>NaN</td>\n",
              "      <td>NaN</td>\n",
              "      <td>NaN</td>\n",
              "      <td>1803.987</td>\n",
              "      <td>8.33</td>\n",
              "      <td>39835428.0</td>\n",
              "      <td>NaN</td>\n",
              "      <td>NaN</td>\n",
              "    </tr>\n",
              "    <tr>\n",
              "      <th>1</th>\n",
              "      <td>Asia</td>\n",
              "      <td>Afghanistan</td>\n",
              "      <td>2020-02-25</td>\n",
              "      <td>5.0</td>\n",
              "      <td>0.0</td>\n",
              "      <td>NaN</td>\n",
              "      <td>NaN</td>\n",
              "      <td>NaN</td>\n",
              "      <td>NaN</td>\n",
              "      <td>NaN</td>\n",
              "      <td>1803.987</td>\n",
              "      <td>8.33</td>\n",
              "      <td>39835428.0</td>\n",
              "      <td>NaN</td>\n",
              "      <td>NaN</td>\n",
              "    </tr>\n",
              "    <tr>\n",
              "      <th>2</th>\n",
              "      <td>Asia</td>\n",
              "      <td>Afghanistan</td>\n",
              "      <td>2020-02-26</td>\n",
              "      <td>5.0</td>\n",
              "      <td>0.0</td>\n",
              "      <td>NaN</td>\n",
              "      <td>NaN</td>\n",
              "      <td>NaN</td>\n",
              "      <td>NaN</td>\n",
              "      <td>NaN</td>\n",
              "      <td>1803.987</td>\n",
              "      <td>8.33</td>\n",
              "      <td>39835428.0</td>\n",
              "      <td>NaN</td>\n",
              "      <td>NaN</td>\n",
              "    </tr>\n",
              "    <tr>\n",
              "      <th>3</th>\n",
              "      <td>Asia</td>\n",
              "      <td>Afghanistan</td>\n",
              "      <td>2020-02-27</td>\n",
              "      <td>5.0</td>\n",
              "      <td>0.0</td>\n",
              "      <td>NaN</td>\n",
              "      <td>NaN</td>\n",
              "      <td>NaN</td>\n",
              "      <td>NaN</td>\n",
              "      <td>NaN</td>\n",
              "      <td>1803.987</td>\n",
              "      <td>8.33</td>\n",
              "      <td>39835428.0</td>\n",
              "      <td>NaN</td>\n",
              "      <td>NaN</td>\n",
              "    </tr>\n",
              "    <tr>\n",
              "      <th>4</th>\n",
              "      <td>Asia</td>\n",
              "      <td>Afghanistan</td>\n",
              "      <td>2020-02-28</td>\n",
              "      <td>5.0</td>\n",
              "      <td>0.0</td>\n",
              "      <td>NaN</td>\n",
              "      <td>NaN</td>\n",
              "      <td>NaN</td>\n",
              "      <td>NaN</td>\n",
              "      <td>NaN</td>\n",
              "      <td>1803.987</td>\n",
              "      <td>8.33</td>\n",
              "      <td>39835428.0</td>\n",
              "      <td>NaN</td>\n",
              "      <td>NaN</td>\n",
              "    </tr>\n",
              "  </tbody>\n",
              "</table>\n",
              "</div>\n",
              "      <button class=\"colab-df-convert\" onclick=\"convertToInteractive('df-93efd482-ed73-4142-997c-ec5aaa0aaa72')\"\n",
              "              title=\"Convert this dataframe to an interactive table.\"\n",
              "              style=\"display:none;\">\n",
              "        \n",
              "  <svg xmlns=\"http://www.w3.org/2000/svg\" height=\"24px\"viewBox=\"0 0 24 24\"\n",
              "       width=\"24px\">\n",
              "    <path d=\"M0 0h24v24H0V0z\" fill=\"none\"/>\n",
              "    <path d=\"M18.56 5.44l.94 2.06.94-2.06 2.06-.94-2.06-.94-.94-2.06-.94 2.06-2.06.94zm-11 1L8.5 8.5l.94-2.06 2.06-.94-2.06-.94L8.5 2.5l-.94 2.06-2.06.94zm10 10l.94 2.06.94-2.06 2.06-.94-2.06-.94-.94-2.06-.94 2.06-2.06.94z\"/><path d=\"M17.41 7.96l-1.37-1.37c-.4-.4-.92-.59-1.43-.59-.52 0-1.04.2-1.43.59L10.3 9.45l-7.72 7.72c-.78.78-.78 2.05 0 2.83L4 21.41c.39.39.9.59 1.41.59.51 0 1.02-.2 1.41-.59l7.78-7.78 2.81-2.81c.8-.78.8-2.07 0-2.86zM5.41 20L4 18.59l7.72-7.72 1.47 1.35L5.41 20z\"/>\n",
              "  </svg>\n",
              "      </button>\n",
              "      \n",
              "  <style>\n",
              "    .colab-df-container {\n",
              "      display:flex;\n",
              "      flex-wrap:wrap;\n",
              "      gap: 12px;\n",
              "    }\n",
              "\n",
              "    .colab-df-convert {\n",
              "      background-color: #E8F0FE;\n",
              "      border: none;\n",
              "      border-radius: 50%;\n",
              "      cursor: pointer;\n",
              "      display: none;\n",
              "      fill: #1967D2;\n",
              "      height: 32px;\n",
              "      padding: 0 0 0 0;\n",
              "      width: 32px;\n",
              "    }\n",
              "\n",
              "    .colab-df-convert:hover {\n",
              "      background-color: #E2EBFA;\n",
              "      box-shadow: 0px 1px 2px rgba(60, 64, 67, 0.3), 0px 1px 3px 1px rgba(60, 64, 67, 0.15);\n",
              "      fill: #174EA6;\n",
              "    }\n",
              "\n",
              "    [theme=dark] .colab-df-convert {\n",
              "      background-color: #3B4455;\n",
              "      fill: #D2E3FC;\n",
              "    }\n",
              "\n",
              "    [theme=dark] .colab-df-convert:hover {\n",
              "      background-color: #434B5C;\n",
              "      box-shadow: 0px 1px 3px 1px rgba(0, 0, 0, 0.15);\n",
              "      filter: drop-shadow(0px 1px 2px rgba(0, 0, 0, 0.3));\n",
              "      fill: #FFFFFF;\n",
              "    }\n",
              "  </style>\n",
              "\n",
              "      <script>\n",
              "        const buttonEl =\n",
              "          document.querySelector('#df-93efd482-ed73-4142-997c-ec5aaa0aaa72 button.colab-df-convert');\n",
              "        buttonEl.style.display =\n",
              "          google.colab.kernel.accessAllowed ? 'block' : 'none';\n",
              "\n",
              "        async function convertToInteractive(key) {\n",
              "          const element = document.querySelector('#df-93efd482-ed73-4142-997c-ec5aaa0aaa72');\n",
              "          const dataTable =\n",
              "            await google.colab.kernel.invokeFunction('convertToInteractive',\n",
              "                                                     [key], {});\n",
              "          if (!dataTable) return;\n",
              "\n",
              "          const docLinkHtml = 'Like what you see? Visit the ' +\n",
              "            '<a target=\"_blank\" href=https://colab.research.google.com/notebooks/data_table.ipynb>data table notebook</a>'\n",
              "            + ' to learn more about interactive tables.';\n",
              "          element.innerHTML = '';\n",
              "          dataTable['output_type'] = 'display_data';\n",
              "          await google.colab.output.renderOutput(dataTable, element);\n",
              "          const docLink = document.createElement('div');\n",
              "          docLink.innerHTML = docLinkHtml;\n",
              "          element.appendChild(docLink);\n",
              "        }\n",
              "      </script>\n",
              "    </div>\n",
              "  </div>\n",
              "  "
            ]
          },
          "metadata": {},
          "execution_count": 6
        }
      ]
    },
    {
      "cell_type": "markdown",
      "source": [
        "Como não pretendo utilizar todas as colunas do *database*, aqui busquei selecionar as variáveis mais importantes."
      ],
      "metadata": {
        "id": "KgjMahtH6zei"
      }
    },
    {
      "cell_type": "code",
      "source": [
        "#Avaliação dos valores nulos\n",
        "geral.isnull().sum()"
      ],
      "metadata": {
        "colab": {
          "base_uri": "https://localhost:8080/"
        },
        "id": "Bjlg3zzdtNc4",
        "outputId": "4f78e4b1-b509-43fb-8308-11d4a97453a7"
      },
      "execution_count": null,
      "outputs": [
        {
          "output_type": "execute_result",
          "data": {
            "text/plain": [
              "continent               11243\n",
              "location                    0\n",
              "date                        0\n",
              "total_cases              7580\n",
              "new_cases                7864\n",
              "total_deaths            26101\n",
              "new_deaths              26117\n",
              "people_vaccinated      142924\n",
              "new_vaccinations       149969\n",
              "icu_patients           167758\n",
              "gdp_per_capita          34532\n",
              "stringency_index        43017\n",
              "population               1174\n",
              "new_cases_smoothed       9038\n",
              "new_deaths_smoothed     27280\n",
              "dtype: int64"
            ]
          },
          "metadata": {},
          "execution_count": 7
        }
      ]
    },
    {
      "cell_type": "markdown",
      "source": [
        "A quantidade de valores nulos em `continent` me chamou a atenção, afinal o continente é consequência do país `location` que não possui entradas nulas."
      ],
      "metadata": {
        "id": "49aebX7YxACx"
      }
    },
    {
      "cell_type": "code",
      "source": [
        "geral.loc[geral.continent.isnull()==True].location.unique()"
      ],
      "metadata": {
        "colab": {
          "base_uri": "https://localhost:8080/"
        },
        "id": "f6f7Fb_itphB",
        "outputId": "79e71527-246a-4ce1-bf09-d3bac8aafad9"
      },
      "execution_count": null,
      "outputs": [
        {
          "output_type": "execute_result",
          "data": {
            "text/plain": [
              "array(['Africa', 'Asia', 'Europe', 'European Union', 'High income',\n",
              "       'International', 'Low income', 'Lower middle income',\n",
              "       'North America', 'Oceania', 'South America', 'Upper middle income',\n",
              "       'World'], dtype=object)"
            ]
          },
          "metadata": {},
          "execution_count": 8
        }
      ]
    },
    {
      "cell_type": "markdown",
      "source": [
        "Ao avaliar as localizações `location` para as entradas em que o `continent` é nulo, percebi que ja existem regiões concatenadas no database. Dessa forma, **existem dados que foram contabilizados mais de uma vez!**"
      ],
      "metadata": {
        "id": "9F22qbjTxnIQ"
      }
    },
    {
      "cell_type": "code",
      "source": [
        "geral = geral.dropna(subset = ['continent'], axis = 0)\n",
        "geral = geral.fillna(0)"
      ],
      "metadata": {
        "id": "0jTK6vDiyQii"
      },
      "execution_count": null,
      "outputs": []
    },
    {
      "cell_type": "markdown",
      "source": [
        "Todas as entradas onde `continent` era nulo foram removidas, uma vez que eram contabilizações repitidas.\n",
        "\n",
        "Valores nulos para `total_cases` `total_deaths` `people_vaccinated` `icu_patients` foram atribuidos o valor 0."
      ],
      "metadata": {
        "id": "-AfSirfbzbzI"
      }
    },
    {
      "cell_type": "code",
      "source": [
        "'total_cases'\n",
        "geral.loc[geral.date == geral.date.max(), ['location', 'total_cases']].sort_values(by='total_cases', ascending=False)[:5].style.hide_index()"
      ],
      "metadata": {
        "colab": {
          "base_uri": "https://localhost:8080/",
          "height": 206
        },
        "id": "8grV6OkUTNBx",
        "outputId": "721dfa45-aea9-4797-c4ab-7fa02b6ddc3e"
      },
      "execution_count": null,
      "outputs": [
        {
          "output_type": "execute_result",
          "data": {
            "text/plain": [
              "<pandas.io.formats.style.Styler at 0x7f98820abb50>"
            ],
            "text/html": [
              "<style type=\"text/css\">\n",
              "</style>\n",
              "<table id=\"T_5aadf_\" class=\"dataframe\">\n",
              "  <thead>\n",
              "    <tr>\n",
              "      <th class=\"col_heading level0 col0\" >location</th>\n",
              "      <th class=\"col_heading level0 col1\" >total_cases</th>\n",
              "    </tr>\n",
              "  </thead>\n",
              "  <tbody>\n",
              "    <tr>\n",
              "      <td id=\"T_5aadf_row0_col0\" class=\"data row0 col0\" >United States</td>\n",
              "      <td id=\"T_5aadf_row0_col1\" class=\"data row0 col1\" >85515795.000000</td>\n",
              "    </tr>\n",
              "    <tr>\n",
              "      <td id=\"T_5aadf_row1_col0\" class=\"data row1 col0\" >India</td>\n",
              "      <td id=\"T_5aadf_row1_col1\" class=\"data row1 col1\" >43230101.000000</td>\n",
              "    </tr>\n",
              "    <tr>\n",
              "      <td id=\"T_5aadf_row2_col0\" class=\"data row2 col0\" >Brazil</td>\n",
              "      <td id=\"T_5aadf_row2_col1\" class=\"data row2 col1\" >31456865.000000</td>\n",
              "    </tr>\n",
              "    <tr>\n",
              "      <td id=\"T_5aadf_row3_col0\" class=\"data row3 col0\" >France</td>\n",
              "      <td id=\"T_5aadf_row3_col1\" class=\"data row3 col1\" >29807699.000000</td>\n",
              "    </tr>\n",
              "    <tr>\n",
              "      <td id=\"T_5aadf_row4_col0\" class=\"data row4 col0\" >Germany</td>\n",
              "      <td id=\"T_5aadf_row4_col1\" class=\"data row4 col1\" >26809245.000000</td>\n",
              "    </tr>\n",
              "  </tbody>\n",
              "</table>\n"
            ]
          },
          "metadata": {},
          "execution_count": 10
        }
      ]
    },
    {
      "cell_type": "code",
      "source": [
        "geral.loc[geral.date == geral.date.max(), ['location', 'total_deaths']].sort_values(by=\"total_deaths\", ascending=False)[:5].style.hide_index()"
      ],
      "metadata": {
        "colab": {
          "base_uri": "https://localhost:8080/",
          "height": 206
        },
        "id": "GJKc4096QqDB",
        "outputId": "2d7e8645-02bf-481b-8228-425ee60cdde9"
      },
      "execution_count": null,
      "outputs": [
        {
          "output_type": "execute_result",
          "data": {
            "text/plain": [
              "<pandas.io.formats.style.Styler at 0x7f986819cc50>"
            ],
            "text/html": [
              "<style type=\"text/css\">\n",
              "</style>\n",
              "<table id=\"T_bcfb4_\" class=\"dataframe\">\n",
              "  <thead>\n",
              "    <tr>\n",
              "      <th class=\"col_heading level0 col0\" >location</th>\n",
              "      <th class=\"col_heading level0 col1\" >total_deaths</th>\n",
              "    </tr>\n",
              "  </thead>\n",
              "  <tbody>\n",
              "    <tr>\n",
              "      <td id=\"T_bcfb4_row0_col0\" class=\"data row0 col0\" >United States</td>\n",
              "      <td id=\"T_bcfb4_row0_col1\" class=\"data row0 col1\" >1011275.000000</td>\n",
              "    </tr>\n",
              "    <tr>\n",
              "      <td id=\"T_bcfb4_row1_col0\" class=\"data row1 col0\" >Brazil</td>\n",
              "      <td id=\"T_bcfb4_row1_col1\" class=\"data row1 col1\" >668110.000000</td>\n",
              "    </tr>\n",
              "    <tr>\n",
              "      <td id=\"T_bcfb4_row2_col0\" class=\"data row2 col0\" >India</td>\n",
              "      <td id=\"T_bcfb4_row2_col1\" class=\"data row2 col1\" >524771.000000</td>\n",
              "    </tr>\n",
              "    <tr>\n",
              "      <td id=\"T_bcfb4_row3_col0\" class=\"data row3 col0\" >Russia</td>\n",
              "      <td id=\"T_bcfb4_row3_col1\" class=\"data row3 col1\" >372338.000000</td>\n",
              "    </tr>\n",
              "    <tr>\n",
              "      <td id=\"T_bcfb4_row4_col0\" class=\"data row4 col0\" >Mexico</td>\n",
              "      <td id=\"T_bcfb4_row4_col1\" class=\"data row4 col1\" >325194.000000</td>\n",
              "    </tr>\n",
              "  </tbody>\n",
              "</table>\n"
            ]
          },
          "metadata": {},
          "execution_count": 11
        }
      ]
    },
    {
      "cell_type": "code",
      "source": [
        "group1 = geral.groupby('location').total_cases.max().sort_values(ascending=False)[:5]\n",
        "group2 = geral.groupby('location').total_deaths.max().sort_values(ascending=False)[:5]\n",
        "\n",
        "group1 = pd.DataFrame(group1)\n",
        "group2 = pd.DataFrame(group2)\n",
        "\n",
        "fig, ax = plt.subplots(nrows=1,ncols=2, figsize = (10,5))\n",
        "\n",
        "ax[0].bar(x=group1.index, height=group1.total_cases)\n",
        "ax[1].bar(x=group2.index, height=group2.total_deaths)\n",
        "\n",
        "plt.show()"
      ],
      "metadata": {
        "colab": {
          "base_uri": "https://localhost:8080/",
          "height": 331
        },
        "id": "VF7624DUvpHy",
        "outputId": "27ca0c94-7d3c-46f3-bd3d-795301c8319d"
      },
      "execution_count": null,
      "outputs": [
        {
          "output_type": "display_data",
          "data": {
            "text/plain": [
              "<Figure size 720x360 with 2 Axes>"
            ],
            "image/png": "[encoded data removed]"
          },
          "metadata": {
            "needs_background": "light"
          }
        }
      ]
    },
    {
      "cell_type": "markdown",
      "source": [
        "Acima estão os países onde tiveram o maior valume de casos confirmados e de mortes por COVID19 respectivamente, os principais países são `Estados Unidos`, `Brasil` e `India`. **Sendo que o primeiro se posiciona muito a frente dos demais!** \n",
        "\n",
        "---"
      ],
      "metadata": {
        "id": "ywWaUxoi7sUe"
      }
    },
    {
      "cell_type": "markdown",
      "source": [
        "Alguns pontos são importantes para a visualização abaixo:\n",
        "\n",
        "* Utilizei uma nova coluna `deaths_relativo`, esse dado é uma relação da quantidade de mortes em determinado país com a sua população\n",
        "* A primeira visualização representa a relação entre o PIB de cada país com a nova variável `deaths_relativo`\n",
        "* Já a segunda visualização é a relação entre o `stringency_index`, que é um índice de cuidados que cada país tomou (quanto mais alto o índice, mais restritivas foram as medidas de contingência), com a `deaths_relativo` "
      ],
      "metadata": {
        "id": "P9Secwzk-eWd"
      }
    },
    {
      "cell_type": "code",
      "source": [
        "group = geral.groupby('location').max()\n",
        "group.drop(group[group.stringency_index == 0].index, axis = 0, inplace = True)\n",
        "group['deaths_relativo'] = group.total_deaths/group.population * 100\n",
        "\n",
        "fig, ax = plt.subplots(nrows = 1, ncols = 2, figsize=(10,5))\n",
        "\n",
        "ax[0].scatter(group.gdp_per_capita, group.deaths_relativo)\n",
        "ax[1].scatter(group.stringency_index, group.deaths_relativo)\n",
        "\n",
        "plt.show()"
      ],
      "metadata": {
        "colab": {
          "base_uri": "https://localhost:8080/",
          "height": 320
        },
        "id": "dhFhkcHWbH2c",
        "outputId": "02cc00cb-436b-42fd-8f96-33ed8335e144"
      },
      "execution_count": null,
      "outputs": [
        {
          "output_type": "display_data",
          "data": {
            "text/plain": [
              "<Figure size 720x360 with 2 Axes>"
            ],
            "image/png": "[encoded data removed]"
          },
          "metadata": {
            "needs_background": "light"
          }
        }
      ]
    },
    {
      "cell_type": "markdown",
      "source": [
        "Para o primeiro caso, foi possível perceber uma relação entre **PIBs altos e baixa mortalidade**\n",
        "\n",
        "Enquanto que para o segundo caso, **vemos uma preocupação grande por todas as nações em impor medidas de segurança pública, mas nem todas foram efetivas.**"
      ],
      "metadata": {
        "id": "pCRmii8v_93u"
      }
    },
    {
      "cell_type": "code",
      "source": [
        "a = geral.new_cases.sum()\n",
        "b = geral.new_deaths.sum()\n",
        "\n",
        "print(f'''Total de casos:\\t\\t{a}\n",
        "Total de mortes:\\t{b}\n",
        "Taxa de mortalidade:\\t{b/a*100:.2f}%\n",
        "''')"
      ],
      "metadata": {
        "colab": {
          "base_uri": "https://localhost:8080/"
        },
        "id": "TR6Nez3407nd",
        "outputId": "249f11a8-df47-410e-84ca-dfbf108d5f0d"
      },
      "execution_count": null,
      "outputs": [
        {
          "output_type": "stream",
          "name": "stdout",
          "text": [
            "Total de casos:\t\t534146654.0\n",
            "Total de mortes:\t6267613.0\n",
            "Taxa de mortalidade:\t1.17%\n",
            "\n"
          ]
        }
      ]
    },
    {
      "cell_type": "markdown",
      "source": [
        "###Acima vemos os **\"Big Numbers\"** do COVID19 mundialmente:\n",
        "* *Total de casos*: **533 milhões**\n",
        "* *Total de mortes*: **6.26 milhões**\n",
        "* *Taxa de mortalidade*: **1.18%** (A cada 100 pessoas infectadas, 1.18 morrem)\n"
      ],
      "metadata": {
        "id": "SFnJ0Q12BLl8"
      }
    },
    {
      "cell_type": "markdown",
      "source": [
        "##Análise dos efeitos da **Vacina** "
      ],
      "metadata": {
        "id": "ciV3O9k7Ckx8"
      }
    },
    {
      "cell_type": "markdown",
      "source": [
        "Daqui para frente dividirei o *database* em duas grandes partes:\n",
        "* Pré Vacina\n",
        "* Pós Vacina\n",
        "\n",
        "O vou avaliar a evolução da doença em ambas as situações."
      ],
      "metadata": {
        "id": "vtZnZSwaDOOc"
      }
    },
    {
      "cell_type": "code",
      "source": [
        "geraldate = geral.groupby(['date']).sum()\n",
        "geraldate.loc[geraldate['people_vaccinated'] != 0][:1]"
      ],
      "metadata": {
        "colab": {
          "base_uri": "https://localhost:8080/",
          "height": 193
        },
        "id": "LH7YUU9Z5aDT",
        "outputId": "6318d216-1b40-4b12-93c5-6c2ea4a0a0fa"
      },
      "execution_count": null,
      "outputs": [
        {
          "output_type": "execute_result",
          "data": {
            "text/plain": [
              "            total_cases  new_cases  total_deaths  new_deaths  \\\n",
              "date                                                           \n",
              "2020-12-04   66020703.0   696663.0     1575154.0     12435.0   \n",
              "\n",
              "            people_vaccinated  new_vaccinations  icu_patients  gdp_per_capita  \\\n",
              "date                                                                            \n",
              "2020-12-04                1.0               0.0       49554.0     3649425.179   \n",
              "\n",
              "            stringency_index    population  new_cases_smoothed  \\\n",
              "date                                                             \n",
              "2020-12-04           9960.68  7.841401e+09          606832.287   \n",
              "\n",
              "            new_deaths_smoothed  \n",
              "date                             \n",
              "2020-12-04            10853.144  "
            ],
            "text/html": [
              "\n",
              "  <div id=\"df-5a4da7e5-e8e0-4c30-a2db-9e2d07e7ed3b\">\n",
              "    <div class=\"colab-df-container\">\n",
              "      <div>\n",
              "<style scoped>\n",
              "    .dataframe tbody tr th:only-of-type {\n",
              "        vertical-align: middle;\n",
              "    }\n",
              "\n",
              "    .dataframe tbody tr th {\n",
              "        vertical-align: top;\n",
              "    }\n",
              "\n",
              "    .dataframe thead th {\n",
              "        text-align: right;\n",
              "    }\n",
              "</style>\n",
              "<table border=\"1\" class=\"dataframe\">\n",
              "  <thead>\n",
              "    <tr style=\"text-align: right;\">\n",
              "      <th></th>\n",
              "      <th>total_cases</th>\n",
              "      <th>new_cases</th>\n",
              "      <th>total_deaths</th>\n",
              "      <th>new_deaths</th>\n",
              "      <th>people_vaccinated</th>\n",
              "      <th>new_vaccinations</th>\n",
              "      <th>icu_patients</th>\n",
              "      <th>gdp_per_capita</th>\n",
              "      <th>stringency_index</th>\n",
              "      <th>population</th>\n",
              "      <th>new_cases_smoothed</th>\n",
              "      <th>new_deaths_smoothed</th>\n",
              "    </tr>\n",
              "    <tr>\n",
              "      <th>date</th>\n",
              "      <th></th>\n",
              "      <th></th>\n",
              "      <th></th>\n",
              "      <th></th>\n",
              "      <th></th>\n",
              "      <th></th>\n",
              "      <th></th>\n",
              "      <th></th>\n",
              "      <th></th>\n",
              "      <th></th>\n",
              "      <th></th>\n",
              "      <th></th>\n",
              "    </tr>\n",
              "  </thead>\n",
              "  <tbody>\n",
              "    <tr>\n",
              "      <th>2020-12-04</th>\n",
              "      <td>66020703.0</td>\n",
              "      <td>696663.0</td>\n",
              "      <td>1575154.0</td>\n",
              "      <td>12435.0</td>\n",
              "      <td>1.0</td>\n",
              "      <td>0.0</td>\n",
              "      <td>49554.0</td>\n",
              "      <td>3649425.179</td>\n",
              "      <td>9960.68</td>\n",
              "      <td>7.841401e+09</td>\n",
              "      <td>606832.287</td>\n",
              "      <td>10853.144</td>\n",
              "    </tr>\n",
              "  </tbody>\n",
              "</table>\n",
              "</div>\n",
              "      <button class=\"colab-df-convert\" onclick=\"convertToInteractive('df-5a4da7e5-e8e0-4c30-a2db-9e2d07e7ed3b')\"\n",
              "              title=\"Convert this dataframe to an interactive table.\"\n",
              "              style=\"display:none;\">\n",
              "        \n",
              "  <svg xmlns=\"http://www.w3.org/2000/svg\" height=\"24px\"viewBox=\"0 0 24 24\"\n",
              "       width=\"24px\">\n",
              "    <path d=\"M0 0h24v24H0V0z\" fill=\"none\"/>\n",
              "    <path d=\"M18.56 5.44l.94 2.06.94-2.06 2.06-.94-2.06-.94-.94-2.06-.94 2.06-2.06.94zm-11 1L8.5 8.5l.94-2.06 2.06-.94-2.06-.94L8.5 2.5l-.94 2.06-2.06.94zm10 10l.94 2.06.94-2.06 2.06-.94-2.06-.94-.94-2.06-.94 2.06-2.06.94z\"/><path d=\"M17.41 7.96l-1.37-1.37c-.4-.4-.92-.59-1.43-.59-.52 0-1.04.2-1.43.59L10.3 9.45l-7.72 7.72c-.78.78-.78 2.05 0 2.83L4 21.41c.39.39.9.59 1.41.59.51 0 1.02-.2 1.41-.59l7.78-7.78 2.81-2.81c.8-.78.8-2.07 0-2.86zM5.41 20L4 18.59l7.72-7.72 1.47 1.35L5.41 20z\"/>\n",
              "  </svg>\n",
              "      </button>\n",
              "      \n",
              "  <style>\n",
              "    .colab-df-container {\n",
              "      display:flex;\n",
              "      flex-wrap:wrap;\n",
              "      gap: 12px;\n",
              "    }\n",
              "\n",
              "    .colab-df-convert {\n",
              "      background-color: #E8F0FE;\n",
              "      border: none;\n",
              "      border-radius: 50%;\n",
              "      cursor: pointer;\n",
              "      display: none;\n",
              "      fill: #1967D2;\n",
              "      height: 32px;\n",
              "      padding: 0 0 0 0;\n",
              "      width: 32px;\n",
              "    }\n",
              "\n",
              "    .colab-df-convert:hover {\n",
              "      background-color: #E2EBFA;\n",
              "      box-shadow: 0px 1px 2px rgba(60, 64, 67, 0.3), 0px 1px 3px 1px rgba(60, 64, 67, 0.15);\n",
              "      fill: #174EA6;\n",
              "    }\n",
              "\n",
              "    [theme=dark] .colab-df-convert {\n",
              "      background-color: #3B4455;\n",
              "      fill: #D2E3FC;\n",
              "    }\n",
              "\n",
              "    [theme=dark] .colab-df-convert:hover {\n",
              "      background-color: #434B5C;\n",
              "      box-shadow: 0px 1px 3px 1px rgba(0, 0, 0, 0.15);\n",
              "      filter: drop-shadow(0px 1px 2px rgba(0, 0, 0, 0.3));\n",
              "      fill: #FFFFFF;\n",
              "    }\n",
              "  </style>\n",
              "\n",
              "      <script>\n",
              "        const buttonEl =\n",
              "          document.querySelector('#df-5a4da7e5-e8e0-4c30-a2db-9e2d07e7ed3b button.colab-df-convert');\n",
              "        buttonEl.style.display =\n",
              "          google.colab.kernel.accessAllowed ? 'block' : 'none';\n",
              "\n",
              "        async function convertToInteractive(key) {\n",
              "          const element = document.querySelector('#df-5a4da7e5-e8e0-4c30-a2db-9e2d07e7ed3b');\n",
              "          const dataTable =\n",
              "            await google.colab.kernel.invokeFunction('convertToInteractive',\n",
              "                                                     [key], {});\n",
              "          if (!dataTable) return;\n",
              "\n",
              "          const docLinkHtml = 'Like what you see? Visit the ' +\n",
              "            '<a target=\"_blank\" href=https://colab.research.google.com/notebooks/data_table.ipynb>data table notebook</a>'\n",
              "            + ' to learn more about interactive tables.';\n",
              "          element.innerHTML = '';\n",
              "          dataTable['output_type'] = 'display_data';\n",
              "          await google.colab.output.renderOutput(dataTable, element);\n",
              "          const docLink = document.createElement('div');\n",
              "          docLink.innerHTML = docLinkHtml;\n",
              "          element.appendChild(docLink);\n",
              "        }\n",
              "      </script>\n",
              "    </div>\n",
              "  </div>\n",
              "  "
            ]
          },
          "metadata": {},
          "execution_count": 15
        }
      ]
    },
    {
      "cell_type": "markdown",
      "source": [
        "Acima vemos a data **2020-12-04**, essa é data que ocorreu a primeira aplicação de vacina contra COVID19 no mundo, de maneira que vou utilizar esse dado para dividir o *database* daqui para frente."
      ],
      "metadata": {
        "id": "-yxeS8vCDt16"
      }
    },
    {
      "cell_type": "code",
      "source": [
        "geralpre = geral.loc[geral['date'] < '2020-12-04']\n",
        "geralpos = geral.loc[geral['date'] >= '2020-12-04']"
      ],
      "metadata": {
        "id": "h63Vzu9K6idy"
      },
      "execution_count": null,
      "outputs": []
    },
    {
      "cell_type": "code",
      "source": [
        "fig, (ax1, ax2, ax3) = plt.subplots(nrows=1, ncols=3, figsize=(20,6))\n",
        "\n",
        "pre = geralpre.groupby('date').sum()\n",
        "pos = geralpos.groupby('date').sum()\n",
        "\n",
        "ax1.plot(pre.index, pre.new_cases_smoothed)\n",
        "ax1.plot(pos.index, pos.new_cases_smoothed)\n",
        "\n",
        "ax2.plot(pre.index, pre.new_deaths_smoothed)\n",
        "ax2.plot(pos.index, pos.new_deaths_smoothed)\n",
        "\n",
        "ax3.plot(pre.index, pre.icu_patients)\n",
        "ax3.plot(pos.index, pos.icu_patients)\n",
        "\n",
        "plt.tight_layout()"
      ],
      "metadata": {
        "colab": {
          "base_uri": "https://localhost:8080/",
          "height": 436
        },
        "id": "rtwD_uXYNT7r",
        "outputId": "906d598f-3fd0-489a-956a-3b89239c7ec0"
      },
      "execution_count": null,
      "outputs": [
        {
          "output_type": "display_data",
          "data": {
            "text/plain": [
              "<Figure size 1440x432 with 3 Axes>"
            ],
            "image/png": "[encoded data removed]"
          },
          "metadata": {
            "needs_background": "light"
          }
        }
      ]
    },
    {
      "cell_type": "markdown",
      "source": [
        "Acima temos três visualizações, todas são séries temporais.\n",
        "* A primeira representa a evolução de pessoas contaminadas\n",
        "* A segunda é a evolução de mortes causadas pela doença\n",
        "* A terceira mostra a quantidade de pessoas internadas na UTI neste período\n",
        "\n",
        "---\n"
      ],
      "metadata": {
        "id": "L5AXmnEUEfJo"
      }
    },
    {
      "cell_type": "markdown",
      "source": [
        "A partir dos gráficos acima é possível concluir alguns pontos\n",
        "* Logo após a vacinação, a quantidade de infectados foi estabilizada, a quantidade de mortes, assim como de pessoas internadas, começaram um processo de queda.\n",
        "* No começo de 2022 houve um pico gigantesco de novos infectados, fato que ocorreu devido as novas variantes da doença.\n",
        "* Mesmo com o pico discrepante em novos casos, mortes e internações graves não voltaram a atingir os picos anteriores, mostrando eficiencia da vacina mesmo para essas novas variantes. "
      ],
      "metadata": {
        "id": "HlnGdL0tFGqc"
      }
    },
    {
      "cell_type": "code",
      "source": [
        "a = geralpre.new_cases.sum()\n",
        "b = geralpre.new_deaths.sum()\n",
        "c = geralpos.new_cases.sum()\n",
        "d = geralpos.new_deaths.sum()\n",
        "\n",
        "print(f'''\n",
        "Taxa de mortalidade pre:\\t{b/a*100:.2f}%\n",
        "--------------------------------------------\n",
        "Taxa de mortalidade pos:\\t{d/c*100:.2f}%\n",
        "''')"
      ],
      "metadata": {
        "colab": {
          "base_uri": "https://localhost:8080/"
        },
        "id": "koEdT2NE7Ec6",
        "outputId": "e092db28-1b06-4da7-9d21-2e42df3e8a2d"
      },
      "execution_count": null,
      "outputs": [
        {
          "output_type": "stream",
          "name": "stdout",
          "text": [
            "\n",
            "Taxa de mortalidade pre:\t2.38%\n",
            "--------------------------------------------\n",
            "Taxa de mortalidade pos:\t1.01%\n",
            "\n"
          ]
        }
      ]
    },
    {
      "cell_type": "markdown",
      "source": [
        "Aqui temos uma comparação da taxa de mortalidade da doença antes e depois da vacina:\n",
        "\n",
        "* *Mortalidade antes da vacina*: **2.38%**\n",
        "* *Mortalidade depois da vacina*: **1.01%**"
      ],
      "metadata": {
        "id": "ihBB_YmnGq1X"
      }
    },
    {
      "cell_type": "code",
      "source": [
        "geralcont = geral.groupby(['continent']).sum()\n",
        "contpre = geralpre.groupby(['continent']).sum()\n",
        "contpos = geralpos.groupby(['continent']).sum()"
      ],
      "metadata": {
        "id": "k6YBD4cUxCah"
      },
      "execution_count": null,
      "outputs": []
    },
    {
      "cell_type": "code",
      "source": [
        "geralcont['taxa_morte'] = geralcont['new_deaths'] / geralcont['new_cases'] * 100\n",
        "contpre['taxa_morte'] = contpre['new_deaths'] / contpre['new_cases'] * 100\n",
        "contpos['taxa_morte'] = contpos['new_deaths'] / contpos['new_cases'] * 100"
      ],
      "metadata": {
        "id": "9W0auFi2xaj7"
      },
      "execution_count": null,
      "outputs": []
    },
    {
      "cell_type": "code",
      "source": [
        "fig, ax = plt.subplots(figsize = (15,8))\n",
        "\n",
        "\n",
        "ax.bar(x=contpre.index,height=contpre.taxa_morte, label = 'pré-vacina',width=-0.4,align='edge')\n",
        "ax.bar(x=contpos.index,height=contpos.taxa_morte, label = 'pós-vacina',width=0.4,align='edge')\n",
        "\n",
        "ax.set_title('Taxa de Mortalidade')\n",
        "\n",
        "plt.legend()\n",
        "plt.show()"
      ],
      "metadata": {
        "colab": {
          "base_uri": "https://localhost:8080/",
          "height": 499
        },
        "id": "Kq8L4sAgfpky",
        "outputId": "d4eb8b75-1c2d-4f54-d656-5fbb47008fea"
      },
      "execution_count": null,
      "outputs": [
        {
          "output_type": "display_data",
          "data": {
            "text/plain": [
              "<Figure size 1080x576 with 1 Axes>"
            ],
            "image/png": "[encoded data removed]"
          },
          "metadata": {
            "needs_background": "light"
          }
        }
      ]
    },
    {
      "cell_type": "markdown",
      "source": [
        "Por fim, temos nesta última visualização a mesma comparação de taxas de mortalidade, porém desta vez, agrupadas por **Continentes**.\n",
        "\n",
        "---\n",
        "Vemos que em todos os Continentes houve uma queda considerável da mortalidade, mais de 40% de queda (com excessão da África).\n",
        "\n",
        "Um ponto que chama a atenção são as representações da Oceania, uma queda tão brusca e fora dos padrões do restante do mundo talvez possa ser um erro de input de dados."
      ],
      "metadata": {
        "id": "I_AnlCKQHHMm"
      }
    },
    {
      "cell_type": "markdown",
      "source": [
        "# Análises por Países"
      ],
      "metadata": {
        "id": "mLwvY14ICLdu"
      }
    },
    {
      "cell_type": "markdown",
      "source": [
        "Nesta terceira parte do projeto, pretendo fazer uma breve análise dos três países mais afetados pela pandemia do Corona vírus. Estados Unidos, Índia e Brasil.\n",
        "\n",
        "* **Estados Unidos:** Nação mais influente do mundo. Considerada uma potência, exerce influência sobre diversas regiões do planeta. O país encontra-se no continente americano, no subcontinente América do Norte. Limita-se ao norte com o Canadá e ao sul com o México. Por conta de sua grande extensão territorial, o país apresenta uma grande diversidade cultural e étnica. Essa variedade estende-se também aos aspectos naturais, como relevo, clima, fauna e flora.\n",
        "\n",
        "* **Índia:** País asiático que ocupa a maior parte do Subcontinente Indiano, delimitado pela Cordilheira do Himalaia. Seu território, banhado pelo Oceano Índico, Mar Arábico e pelo Golfo de Bengala, possui fronteiras com a China, Paquistão, Nepal, Bangladesh, Butão e Mianmar. Em virtude da sua localização e extensão territorial, há uma grande diversidade de climas e paisagens.\n",
        "\n",
        "* **Brasil:** Maior país da América do Sul e o quinto do mundo em extensão territorial. Com proporções continentais, é cortado pelo Equador e pelo trópico de Capricórnio. São mais de 206 milhões de habitantes que vivem em sua maioria nas cidades. A população formou-se pela interação entre os povos europeu, africano e nativos indígenas.\n",
        "\n",
        "---"
      ],
      "metadata": {
        "id": "LN_IysUg2Rs1"
      }
    },
    {
      "cell_type": "markdown",
      "source": [
        "### Estados Unidos"
      ],
      "metadata": {
        "id": "ZhsBF_ZXCf1E"
      }
    },
    {
      "cell_type": "markdown",
      "source": [
        "Em primeiro momento farei um filtro da base de dados originais, buscando em `location` o país em análise, em seguida vou indexar a tabela por data e tratar os valores nulos. "
      ],
      "metadata": {
        "id": "orrJjoif4LNT"
      }
    },
    {
      "cell_type": "code",
      "source": [
        "eua = covid.loc[covid['location'] == 'United States']\n",
        "eua = eua[['date', 'total_cases', 'new_cases', 'total_deaths', 'new_deaths', 'icu_patients', 'hosp_patients', 'total_tests', 'new_tests', 'tests_per_case', 'people_vaccinated', 'stringency_index', 'new_cases_smoothed', 'new_deaths_smoothed']]\n",
        "eua.set_index('date', inplace=True)\n",
        "eua = eua.fillna(0)\n",
        "eua.head()"
      ],
      "metadata": {
        "id": "k_ATPo43EJ-r",
        "colab": {
          "base_uri": "https://localhost:8080/",
          "height": 388
        },
        "outputId": "5f1abf20-bf4d-4c84-a12a-61574016ec55"
      },
      "execution_count": null,
      "outputs": [
        {
          "output_type": "execute_result",
          "data": {
            "text/plain": [
              "            total_cases  new_cases  total_deaths  new_deaths  icu_patients  \\\n",
              "date                                                                         \n",
              "2020-01-22          1.0        0.0           0.0         0.0           0.0   \n",
              "2020-01-23          1.0        0.0           0.0         0.0           0.0   \n",
              "2020-01-24          2.0        1.0           0.0         0.0           0.0   \n",
              "2020-01-25          2.0        0.0           0.0         0.0           0.0   \n",
              "2020-01-26          5.0        3.0           0.0         0.0           0.0   \n",
              "\n",
              "            hosp_patients  total_tests  new_tests  tests_per_case  \\\n",
              "date                                                                \n",
              "2020-01-22            0.0          0.0        0.0             0.0   \n",
              "2020-01-23            0.0          0.0        0.0             0.0   \n",
              "2020-01-24            0.0          0.0        0.0             0.0   \n",
              "2020-01-25            0.0          0.0        0.0             0.0   \n",
              "2020-01-26            0.0          0.0        0.0             0.0   \n",
              "\n",
              "            people_vaccinated  stringency_index  new_cases_smoothed  \\\n",
              "date                                                                  \n",
              "2020-01-22                0.0               0.0                 0.0   \n",
              "2020-01-23                0.0               0.0                 0.0   \n",
              "2020-01-24                0.0               0.0                 0.0   \n",
              "2020-01-25                0.0               0.0                 0.0   \n",
              "2020-01-26                0.0               0.0                 0.0   \n",
              "\n",
              "            new_deaths_smoothed  \n",
              "date                             \n",
              "2020-01-22                  0.0  \n",
              "2020-01-23                  0.0  \n",
              "2020-01-24                  0.0  \n",
              "2020-01-25                  0.0  \n",
              "2020-01-26                  0.0  "
            ],
            "text/html": [
              "\n",
              "  <div id=\"df-3bb9cb08-f5e0-478b-9bde-994912e3d97c\">\n",
              "    <div class=\"colab-df-container\">\n",
              "      <div>\n",
              "<style scoped>\n",
              "    .dataframe tbody tr th:only-of-type {\n",
              "        vertical-align: middle;\n",
              "    }\n",
              "\n",
              "    .dataframe tbody tr th {\n",
              "        vertical-align: top;\n",
              "    }\n",
              "\n",
              "    .dataframe thead th {\n",
              "        text-align: right;\n",
              "    }\n",
              "</style>\n",
              "<table border=\"1\" class=\"dataframe\">\n",
              "  <thead>\n",
              "    <tr style=\"text-align: right;\">\n",
              "      <th></th>\n",
              "      <th>total_cases</th>\n",
              "      <th>new_cases</th>\n",
              "      <th>total_deaths</th>\n",
              "      <th>new_deaths</th>\n",
              "      <th>icu_patients</th>\n",
              "      <th>hosp_patients</th>\n",
              "      <th>total_tests</th>\n",
              "      <th>new_tests</th>\n",
              "      <th>tests_per_case</th>\n",
              "      <th>people_vaccinated</th>\n",
              "      <th>stringency_index</th>\n",
              "      <th>new_cases_smoothed</th>\n",
              "      <th>new_deaths_smoothed</th>\n",
              "    </tr>\n",
              "    <tr>\n",
              "      <th>date</th>\n",
              "      <th></th>\n",
              "      <th></th>\n",
              "      <th></th>\n",
              "      <th></th>\n",
              "      <th></th>\n",
              "      <th></th>\n",
              "      <th></th>\n",
              "      <th></th>\n",
              "      <th></th>\n",
              "      <th></th>\n",
              "      <th></th>\n",
              "      <th></th>\n",
              "      <th></th>\n",
              "    </tr>\n",
              "  </thead>\n",
              "  <tbody>\n",
              "    <tr>\n",
              "      <th>2020-01-22</th>\n",
              "      <td>1.0</td>\n",
              "      <td>0.0</td>\n",
              "      <td>0.0</td>\n",
              "      <td>0.0</td>\n",
              "      <td>0.0</td>\n",
              "      <td>0.0</td>\n",
              "      <td>0.0</td>\n",
              "      <td>0.0</td>\n",
              "      <td>0.0</td>\n",
              "      <td>0.0</td>\n",
              "      <td>0.0</td>\n",
              "      <td>0.0</td>\n",
              "      <td>0.0</td>\n",
              "    </tr>\n",
              "    <tr>\n",
              "      <th>2020-01-23</th>\n",
              "      <td>1.0</td>\n",
              "      <td>0.0</td>\n",
              "      <td>0.0</td>\n",
              "      <td>0.0</td>\n",
              "      <td>0.0</td>\n",
              "      <td>0.0</td>\n",
              "      <td>0.0</td>\n",
              "      <td>0.0</td>\n",
              "      <td>0.0</td>\n",
              "      <td>0.0</td>\n",
              "      <td>0.0</td>\n",
              "      <td>0.0</td>\n",
              "      <td>0.0</td>\n",
              "    </tr>\n",
              "    <tr>\n",
              "      <th>2020-01-24</th>\n",
              "      <td>2.0</td>\n",
              "      <td>1.0</td>\n",
              "      <td>0.0</td>\n",
              "      <td>0.0</td>\n",
              "      <td>0.0</td>\n",
              "      <td>0.0</td>\n",
              "      <td>0.0</td>\n",
              "      <td>0.0</td>\n",
              "      <td>0.0</td>\n",
              "      <td>0.0</td>\n",
              "      <td>0.0</td>\n",
              "      <td>0.0</td>\n",
              "      <td>0.0</td>\n",
              "    </tr>\n",
              "    <tr>\n",
              "      <th>2020-01-25</th>\n",
              "      <td>2.0</td>\n",
              "      <td>0.0</td>\n",
              "      <td>0.0</td>\n",
              "      <td>0.0</td>\n",
              "      <td>0.0</td>\n",
              "      <td>0.0</td>\n",
              "      <td>0.0</td>\n",
              "      <td>0.0</td>\n",
              "      <td>0.0</td>\n",
              "      <td>0.0</td>\n",
              "      <td>0.0</td>\n",
              "      <td>0.0</td>\n",
              "      <td>0.0</td>\n",
              "    </tr>\n",
              "    <tr>\n",
              "      <th>2020-01-26</th>\n",
              "      <td>5.0</td>\n",
              "      <td>3.0</td>\n",
              "      <td>0.0</td>\n",
              "      <td>0.0</td>\n",
              "      <td>0.0</td>\n",
              "      <td>0.0</td>\n",
              "      <td>0.0</td>\n",
              "      <td>0.0</td>\n",
              "      <td>0.0</td>\n",
              "      <td>0.0</td>\n",
              "      <td>0.0</td>\n",
              "      <td>0.0</td>\n",
              "      <td>0.0</td>\n",
              "    </tr>\n",
              "  </tbody>\n",
              "</table>\n",
              "</div>\n",
              "      <button class=\"colab-df-convert\" onclick=\"convertToInteractive('df-3bb9cb08-f5e0-478b-9bde-994912e3d97c')\"\n",
              "              title=\"Convert this dataframe to an interactive table.\"\n",
              "              style=\"display:none;\">\n",
              "        \n",
              "  <svg xmlns=\"http://www.w3.org/2000/svg\" height=\"24px\"viewBox=\"0 0 24 24\"\n",
              "       width=\"24px\">\n",
              "    <path d=\"M0 0h24v24H0V0z\" fill=\"none\"/>\n",
              "    <path d=\"M18.56 5.44l.94 2.06.94-2.06 2.06-.94-2.06-.94-.94-2.06-.94 2.06-2.06.94zm-11 1L8.5 8.5l.94-2.06 2.06-.94-2.06-.94L8.5 2.5l-.94 2.06-2.06.94zm10 10l.94 2.06.94-2.06 2.06-.94-2.06-.94-.94-2.06-.94 2.06-2.06.94z\"/><path d=\"M17.41 7.96l-1.37-1.37c-.4-.4-.92-.59-1.43-.59-.52 0-1.04.2-1.43.59L10.3 9.45l-7.72 7.72c-.78.78-.78 2.05 0 2.83L4 21.41c.39.39.9.59 1.41.59.51 0 1.02-.2 1.41-.59l7.78-7.78 2.81-2.81c.8-.78.8-2.07 0-2.86zM5.41 20L4 18.59l7.72-7.72 1.47 1.35L5.41 20z\"/>\n",
              "  </svg>\n",
              "      </button>\n",
              "      \n",
              "  <style>\n",
              "    .colab-df-container {\n",
              "      display:flex;\n",
              "      flex-wrap:wrap;\n",
              "      gap: 12px;\n",
              "    }\n",
              "\n",
              "    .colab-df-convert {\n",
              "      background-color: #E8F0FE;\n",
              "      border: none;\n",
              "      border-radius: 50%;\n",
              "      cursor: pointer;\n",
              "      display: none;\n",
              "      fill: #1967D2;\n",
              "      height: 32px;\n",
              "      padding: 0 0 0 0;\n",
              "      width: 32px;\n",
              "    }\n",
              "\n",
              "    .colab-df-convert:hover {\n",
              "      background-color: #E2EBFA;\n",
              "      box-shadow: 0px 1px 2px rgba(60, 64, 67, 0.3), 0px 1px 3px 1px rgba(60, 64, 67, 0.15);\n",
              "      fill: #174EA6;\n",
              "    }\n",
              "\n",
              "    [theme=dark] .colab-df-convert {\n",
              "      background-color: #3B4455;\n",
              "      fill: #D2E3FC;\n",
              "    }\n",
              "\n",
              "    [theme=dark] .colab-df-convert:hover {\n",
              "      background-color: #434B5C;\n",
              "      box-shadow: 0px 1px 3px 1px rgba(0, 0, 0, 0.15);\n",
              "      filter: drop-shadow(0px 1px 2px rgba(0, 0, 0, 0.3));\n",
              "      fill: #FFFFFF;\n",
              "    }\n",
              "  </style>\n",
              "\n",
              "      <script>\n",
              "        const buttonEl =\n",
              "          document.querySelector('#df-3bb9cb08-f5e0-478b-9bde-994912e3d97c button.colab-df-convert');\n",
              "        buttonEl.style.display =\n",
              "          google.colab.kernel.accessAllowed ? 'block' : 'none';\n",
              "\n",
              "        async function convertToInteractive(key) {\n",
              "          const element = document.querySelector('#df-3bb9cb08-f5e0-478b-9bde-994912e3d97c');\n",
              "          const dataTable =\n",
              "            await google.colab.kernel.invokeFunction('convertToInteractive',\n",
              "                                                     [key], {});\n",
              "          if (!dataTable) return;\n",
              "\n",
              "          const docLinkHtml = 'Like what you see? Visit the ' +\n",
              "            '<a target=\"_blank\" href=https://colab.research.google.com/notebooks/data_table.ipynb>data table notebook</a>'\n",
              "            + ' to learn more about interactive tables.';\n",
              "          element.innerHTML = '';\n",
              "          dataTable['output_type'] = 'display_data';\n",
              "          await google.colab.output.renderOutput(dataTable, element);\n",
              "          const docLink = document.createElement('div');\n",
              "          docLink.innerHTML = docLinkHtml;\n",
              "          element.appendChild(docLink);\n",
              "        }\n",
              "      </script>\n",
              "    </div>\n",
              "  </div>\n",
              "  "
            ]
          },
          "metadata": {},
          "execution_count": 22
        }
      ]
    },
    {
      "cell_type": "markdown",
      "source": [
        "Uma informação importante que podemos tirar desse *dataset* é a quantidade de dias entre o surgimento da doença no país e a primeira morte."
      ],
      "metadata": {
        "id": "hzSCS5pI4mCW"
      }
    },
    {
      "cell_type": "code",
      "source": [
        "days = (eua.loc[eua['new_deaths'] != 0][:1].index - eua.index[:1])\n",
        "print(days[0])"
      ],
      "metadata": {
        "id": "RbaUBEUZm8cX",
        "colab": {
          "base_uri": "https://localhost:8080/"
        },
        "outputId": "d3810263-996b-4f89-a066-cb430c7170fc"
      },
      "execution_count": null,
      "outputs": [
        {
          "output_type": "stream",
          "name": "stdout",
          "text": [
            "38 days 00:00:00\n"
          ]
        }
      ]
    },
    {
      "cell_type": "markdown",
      "source": [
        "No caso dos **Estados Unidos** foram **38 dias** entre o primeiro caso e a primeira morte devido ao COVID19\n",
        "\n",
        "---"
      ],
      "metadata": {
        "id": "TuIwrDzC42qK"
      }
    },
    {
      "cell_type": "markdown",
      "source": [
        "Um dos momentos mais esperados pelas nações durante a pandemia foi a possibilidade de **imunizar suas populações com a vacina.**"
      ],
      "metadata": {
        "id": "kZILlh1o5ZcT"
      }
    },
    {
      "cell_type": "code",
      "source": [
        "eua.loc[eua['people_vaccinated'] != 0][:1]"
      ],
      "metadata": {
        "id": "j7GJUhAnJEL3",
        "colab": {
          "base_uri": "https://localhost:8080/",
          "height": 193
        },
        "outputId": "7c6fbcd6-d248-4c23-bdfb-f5b449560b96"
      },
      "execution_count": null,
      "outputs": [
        {
          "output_type": "execute_result",
          "data": {
            "text/plain": [
              "            total_cases  new_cases  total_deaths  new_deaths  icu_patients  \\\n",
              "date                                                                         \n",
              "2020-12-13   16408717.0   191598.0      301749.0      1657.0       25074.0   \n",
              "\n",
              "            hosp_patients  total_tests  new_tests  tests_per_case  \\\n",
              "date                                                                \n",
              "2020-12-13       107402.0  227274345.0  1249586.0             8.5   \n",
              "\n",
              "            people_vaccinated  stringency_index  new_cases_smoothed  \\\n",
              "date                                                                  \n",
              "2020-12-13            28022.0             71.76          218643.286   \n",
              "\n",
              "            new_deaths_smoothed  \n",
              "date                             \n",
              "2020-12-13             2545.714  "
            ],
            "text/html": [
              "\n",
              "  <div id=\"df-de73ff96-eee6-4617-963f-6cc4bab7fe16\">\n",
              "    <div class=\"colab-df-container\">\n",
              "      <div>\n",
              "<style scoped>\n",
              "    .dataframe tbody tr th:only-of-type {\n",
              "        vertical-align: middle;\n",
              "    }\n",
              "\n",
              "    .dataframe tbody tr th {\n",
              "        vertical-align: top;\n",
              "    }\n",
              "\n",
              "    .dataframe thead th {\n",
              "        text-align: right;\n",
              "    }\n",
              "</style>\n",
              "<table border=\"1\" class=\"dataframe\">\n",
              "  <thead>\n",
              "    <tr style=\"text-align: right;\">\n",
              "      <th></th>\n",
              "      <th>total_cases</th>\n",
              "      <th>new_cases</th>\n",
              "      <th>total_deaths</th>\n",
              "      <th>new_deaths</th>\n",
              "      <th>icu_patients</th>\n",
              "      <th>hosp_patients</th>\n",
              "      <th>total_tests</th>\n",
              "      <th>new_tests</th>\n",
              "      <th>tests_per_case</th>\n",
              "      <th>people_vaccinated</th>\n",
              "      <th>stringency_index</th>\n",
              "      <th>new_cases_smoothed</th>\n",
              "      <th>new_deaths_smoothed</th>\n",
              "    </tr>\n",
              "    <tr>\n",
              "      <th>date</th>\n",
              "      <th></th>\n",
              "      <th></th>\n",
              "      <th></th>\n",
              "      <th></th>\n",
              "      <th></th>\n",
              "      <th></th>\n",
              "      <th></th>\n",
              "      <th></th>\n",
              "      <th></th>\n",
              "      <th></th>\n",
              "      <th></th>\n",
              "      <th></th>\n",
              "      <th></th>\n",
              "    </tr>\n",
              "  </thead>\n",
              "  <tbody>\n",
              "    <tr>\n",
              "      <th>2020-12-13</th>\n",
              "      <td>16408717.0</td>\n",
              "      <td>191598.0</td>\n",
              "      <td>301749.0</td>\n",
              "      <td>1657.0</td>\n",
              "      <td>25074.0</td>\n",
              "      <td>107402.0</td>\n",
              "      <td>227274345.0</td>\n",
              "      <td>1249586.0</td>\n",
              "      <td>8.5</td>\n",
              "      <td>28022.0</td>\n",
              "      <td>71.76</td>\n",
              "      <td>218643.286</td>\n",
              "      <td>2545.714</td>\n",
              "    </tr>\n",
              "  </tbody>\n",
              "</table>\n",
              "</div>\n",
              "      <button class=\"colab-df-convert\" onclick=\"convertToInteractive('df-de73ff96-eee6-4617-963f-6cc4bab7fe16')\"\n",
              "              title=\"Convert this dataframe to an interactive table.\"\n",
              "              style=\"display:none;\">\n",
              "        \n",
              "  <svg xmlns=\"http://www.w3.org/2000/svg\" height=\"24px\"viewBox=\"0 0 24 24\"\n",
              "       width=\"24px\">\n",
              "    <path d=\"M0 0h24v24H0V0z\" fill=\"none\"/>\n",
              "    <path d=\"M18.56 5.44l.94 2.06.94-2.06 2.06-.94-2.06-.94-.94-2.06-.94 2.06-2.06.94zm-11 1L8.5 8.5l.94-2.06 2.06-.94-2.06-.94L8.5 2.5l-.94 2.06-2.06.94zm10 10l.94 2.06.94-2.06 2.06-.94-2.06-.94-.94-2.06-.94 2.06-2.06.94z\"/><path d=\"M17.41 7.96l-1.37-1.37c-.4-.4-.92-.59-1.43-.59-.52 0-1.04.2-1.43.59L10.3 9.45l-7.72 7.72c-.78.78-.78 2.05 0 2.83L4 21.41c.39.39.9.59 1.41.59.51 0 1.02-.2 1.41-.59l7.78-7.78 2.81-2.81c.8-.78.8-2.07 0-2.86zM5.41 20L4 18.59l7.72-7.72 1.47 1.35L5.41 20z\"/>\n",
              "  </svg>\n",
              "      </button>\n",
              "      \n",
              "  <style>\n",
              "    .colab-df-container {\n",
              "      display:flex;\n",
              "      flex-wrap:wrap;\n",
              "      gap: 12px;\n",
              "    }\n",
              "\n",
              "    .colab-df-convert {\n",
              "      background-color: #E8F0FE;\n",
              "      border: none;\n",
              "      border-radius: 50%;\n",
              "      cursor: pointer;\n",
              "      display: none;\n",
              "      fill: #1967D2;\n",
              "      height: 32px;\n",
              "      padding: 0 0 0 0;\n",
              "      width: 32px;\n",
              "    }\n",
              "\n",
              "    .colab-df-convert:hover {\n",
              "      background-color: #E2EBFA;\n",
              "      box-shadow: 0px 1px 2px rgba(60, 64, 67, 0.3), 0px 1px 3px 1px rgba(60, 64, 67, 0.15);\n",
              "      fill: #174EA6;\n",
              "    }\n",
              "\n",
              "    [theme=dark] .colab-df-convert {\n",
              "      background-color: #3B4455;\n",
              "      fill: #D2E3FC;\n",
              "    }\n",
              "\n",
              "    [theme=dark] .colab-df-convert:hover {\n",
              "      background-color: #434B5C;\n",
              "      box-shadow: 0px 1px 3px 1px rgba(0, 0, 0, 0.15);\n",
              "      filter: drop-shadow(0px 1px 2px rgba(0, 0, 0, 0.3));\n",
              "      fill: #FFFFFF;\n",
              "    }\n",
              "  </style>\n",
              "\n",
              "      <script>\n",
              "        const buttonEl =\n",
              "          document.querySelector('#df-de73ff96-eee6-4617-963f-6cc4bab7fe16 button.colab-df-convert');\n",
              "        buttonEl.style.display =\n",
              "          google.colab.kernel.accessAllowed ? 'block' : 'none';\n",
              "\n",
              "        async function convertToInteractive(key) {\n",
              "          const element = document.querySelector('#df-de73ff96-eee6-4617-963f-6cc4bab7fe16');\n",
              "          const dataTable =\n",
              "            await google.colab.kernel.invokeFunction('convertToInteractive',\n",
              "                                                     [key], {});\n",
              "          if (!dataTable) return;\n",
              "\n",
              "          const docLinkHtml = 'Like what you see? Visit the ' +\n",
              "            '<a target=\"_blank\" href=https://colab.research.google.com/notebooks/data_table.ipynb>data table notebook</a>'\n",
              "            + ' to learn more about interactive tables.';\n",
              "          element.innerHTML = '';\n",
              "          dataTable['output_type'] = 'display_data';\n",
              "          await google.colab.output.renderOutput(dataTable, element);\n",
              "          const docLink = document.createElement('div');\n",
              "          docLink.innerHTML = docLinkHtml;\n",
              "          element.appendChild(docLink);\n",
              "        }\n",
              "      </script>\n",
              "    </div>\n",
              "  </div>\n",
              "  "
            ]
          },
          "metadata": {},
          "execution_count": 24
        }
      ]
    },
    {
      "cell_type": "markdown",
      "source": [
        "Para os EUA, esse momento ocorreu no **dia 13/12/2020**"
      ],
      "metadata": {
        "id": "aDPxjoc95sOy"
      }
    },
    {
      "cell_type": "code",
      "source": [
        "euapre = eua.loc[eua.index < '2020-12-13']\n",
        "euapos = eua.loc[eua.index >= '2020-12-13']"
      ],
      "metadata": {
        "id": "YgpE8KxCOO7w"
      },
      "execution_count": null,
      "outputs": []
    },
    {
      "cell_type": "code",
      "source": [
        "fig, ax = plt.subplots(nrows=1,ncols=2,figsize = (20,5))\n",
        "\n",
        "ax[0].plot(euapre.index, euapre.new_cases_smoothed)\n",
        "ax[0].plot(euapos.index, euapos.new_cases_smoothed)\n",
        "\n",
        "ax[1].plot(euapre.index, euapre.new_deaths_smoothed)\n",
        "ax[1].plot(euapos.index, euapos.new_deaths_smoothed)\n",
        "\n",
        "plt.show()"
      ],
      "metadata": {
        "id": "bPIrdSctrASl",
        "colab": {
          "base_uri": "https://localhost:8080/",
          "height": 320
        },
        "outputId": "b421bb19-d7ff-4881-d107-f895fa845367"
      },
      "execution_count": null,
      "outputs": [
        {
          "output_type": "display_data",
          "data": {
            "text/plain": [
              "<Figure size 1440x360 with 2 Axes>"
            ],
            "image/png": "[encoded data removed]"
          },
          "metadata": {
            "needs_background": "light"
          }
        }
      ]
    },
    {
      "cell_type": "markdown",
      "source": [
        "Acima vemos o gráfico da quantidade de novos casos e novas mortes em uma linha do tempo. Podemos ver:\n",
        "* Um decrescimo das ocorrencias logo após o inicio da aplicação das vacinas.\n",
        "* Um aumento dos casos em um nível assustador no início de 2022, devido as novas variantes da doença que surgiram.\n",
        "* Mesmo com o avanço das variantes em 2022, o nível de mortes não superou os níveis anteriores.  \n",
        "\n"
      ],
      "metadata": {
        "id": "lZ-54Xgc6HAu"
      }
    },
    {
      "cell_type": "code",
      "source": [
        "fig, ax = plt.subplots(nrows=2,ncols=2,figsize = (20,10))\n",
        "\n",
        "ax[0][0].plot(range(1,len(eua)+1), eua.total_cases)\n",
        "ax[0][1].plot(range(1,len(eua)+1), eua.total_deaths)\n",
        "ax[1][0].semilogy(range(1,len(eua)+1), eua.total_cases)\n",
        "ax[1][1].semilogy(range(1,len(eua)+1), eua.total_deaths)"
      ],
      "metadata": {
        "id": "4PS62v7DsCCo",
        "colab": {
          "base_uri": "https://localhost:8080/",
          "height": 620
        },
        "outputId": "ff1cc9bc-108a-432a-82d7-49b67bea0383"
      },
      "execution_count": null,
      "outputs": [
        {
          "output_type": "execute_result",
          "data": {
            "text/plain": [
              "[<matplotlib.lines.Line2D at 0x7f98636940d0>]"
            ]
          },
          "metadata": {},
          "execution_count": 27
        },
        {
          "output_type": "display_data",
          "data": {
            "text/plain": [
              "<Figure size 1440x720 with 4 Axes>"
            ],
            "image/png": "[encoded data removed]"
          },
          "metadata": {
            "needs_background": "light"
          }
        }
      ]
    },
    {
      "cell_type": "markdown",
      "source": [
        "Por fim, deixo a evolução dos totais de casos e mortes nos Estados Unidos, tanto na base decimal quanto na bae logarítmica."
      ],
      "metadata": {
        "id": "hU40wziX7OTf"
      }
    },
    {
      "cell_type": "markdown",
      "source": [
        "## India"
      ],
      "metadata": {
        "id": "LIXPxTbv0Gga"
      }
    },
    {
      "cell_type": "markdown",
      "source": [
        "Em primeiro momento farei um filtro da base de dados originais, buscando em `location` o país em análise, em seguida vou indexar a tabela por data e tratar os valores nulos. "
      ],
      "metadata": {
        "id": "6R12Gbfb78dG"
      }
    },
    {
      "cell_type": "code",
      "source": [
        "india = covid.loc[covid['location'] == 'India']\n",
        "india = india[['date', 'total_cases', 'new_cases', 'total_deaths', 'new_deaths', 'icu_patients', 'hosp_patients', 'total_tests', 'new_tests', 'tests_per_case', 'people_vaccinated', 'stringency_index', 'new_cases_smoothed', 'new_deaths_smoothed']]\n",
        "india.set_index('date', inplace=True)\n",
        "india = india.fillna(0)\n",
        "india.head()"
      ],
      "metadata": {
        "colab": {
          "base_uri": "https://localhost:8080/",
          "height": 388
        },
        "outputId": "8bc9b0f7-f508-431c-9e64-27b5d9c5cc4c",
        "id": "82Hcgvst0Gga"
      },
      "execution_count": null,
      "outputs": [
        {
          "output_type": "execute_result",
          "data": {
            "text/plain": [
              "            total_cases  new_cases  total_deaths  new_deaths  icu_patients  \\\n",
              "date                                                                         \n",
              "2020-01-30          1.0        1.0           0.0         0.0           0.0   \n",
              "2020-01-31          1.0        0.0           0.0         0.0           0.0   \n",
              "2020-02-01          1.0        0.0           0.0         0.0           0.0   \n",
              "2020-02-02          2.0        1.0           0.0         0.0           0.0   \n",
              "2020-02-03          3.0        1.0           0.0         0.0           0.0   \n",
              "\n",
              "            hosp_patients  total_tests  new_tests  tests_per_case  \\\n",
              "date                                                                \n",
              "2020-01-30            0.0          0.0        0.0             0.0   \n",
              "2020-01-31            0.0          0.0        0.0             0.0   \n",
              "2020-02-01            0.0          0.0        0.0             0.0   \n",
              "2020-02-02            0.0          0.0        0.0             0.0   \n",
              "2020-02-03            0.0          0.0        0.0             0.0   \n",
              "\n",
              "            people_vaccinated  stringency_index  new_cases_smoothed  \\\n",
              "date                                                                  \n",
              "2020-01-30                0.0             10.19                 0.0   \n",
              "2020-01-31                0.0             10.19                 0.0   \n",
              "2020-02-01                0.0             10.19                 0.0   \n",
              "2020-02-02                0.0             10.19                 0.0   \n",
              "2020-02-03                0.0             10.19                 0.0   \n",
              "\n",
              "            new_deaths_smoothed  \n",
              "date                             \n",
              "2020-01-30                  0.0  \n",
              "2020-01-31                  0.0  \n",
              "2020-02-01                  0.0  \n",
              "2020-02-02                  0.0  \n",
              "2020-02-03                  0.0  "
            ],
            "text/html": [
              "\n",
              "  <div id=\"df-bc58599b-e6c6-4580-9395-211a9fe40966\">\n",
              "    <div class=\"colab-df-container\">\n",
              "      <div>\n",
              "<style scoped>\n",
              "    .dataframe tbody tr th:only-of-type {\n",
              "        vertical-align: middle;\n",
              "    }\n",
              "\n",
              "    .dataframe tbody tr th {\n",
              "        vertical-align: top;\n",
              "    }\n",
              "\n",
              "    .dataframe thead th {\n",
              "        text-align: right;\n",
              "    }\n",
              "</style>\n",
              "<table border=\"1\" class=\"dataframe\">\n",
              "  <thead>\n",
              "    <tr style=\"text-align: right;\">\n",
              "      <th></th>\n",
              "      <th>total_cases</th>\n",
              "      <th>new_cases</th>\n",
              "      <th>total_deaths</th>\n",
              "      <th>new_deaths</th>\n",
              "      <th>icu_patients</th>\n",
              "      <th>hosp_patients</th>\n",
              "      <th>total_tests</th>\n",
              "      <th>new_tests</th>\n",
              "      <th>tests_per_case</th>\n",
              "      <th>people_vaccinated</th>\n",
              "      <th>stringency_index</th>\n",
              "      <th>new_cases_smoothed</th>\n",
              "      <th>new_deaths_smoothed</th>\n",
              "    </tr>\n",
              "    <tr>\n",
              "      <th>date</th>\n",
              "      <th></th>\n",
              "      <th></th>\n",
              "      <th></th>\n",
              "      <th></th>\n",
              "      <th></th>\n",
              "      <th></th>\n",
              "      <th></th>\n",
              "      <th></th>\n",
              "      <th></th>\n",
              "      <th></th>\n",
              "      <th></th>\n",
              "      <th></th>\n",
              "      <th></th>\n",
              "    </tr>\n",
              "  </thead>\n",
              "  <tbody>\n",
              "    <tr>\n",
              "      <th>2020-01-30</th>\n",
              "      <td>1.0</td>\n",
              "      <td>1.0</td>\n",
              "      <td>0.0</td>\n",
              "      <td>0.0</td>\n",
              "      <td>0.0</td>\n",
              "      <td>0.0</td>\n",
              "      <td>0.0</td>\n",
              "      <td>0.0</td>\n",
              "      <td>0.0</td>\n",
              "      <td>0.0</td>\n",
              "      <td>10.19</td>\n",
              "      <td>0.0</td>\n",
              "      <td>0.0</td>\n",
              "    </tr>\n",
              "    <tr>\n",
              "      <th>2020-01-31</th>\n",
              "      <td>1.0</td>\n",
              "      <td>0.0</td>\n",
              "      <td>0.0</td>\n",
              "      <td>0.0</td>\n",
              "      <td>0.0</td>\n",
              "      <td>0.0</td>\n",
              "      <td>0.0</td>\n",
              "      <td>0.0</td>\n",
              "      <td>0.0</td>\n",
              "      <td>0.0</td>\n",
              "      <td>10.19</td>\n",
              "      <td>0.0</td>\n",
              "      <td>0.0</td>\n",
              "    </tr>\n",
              "    <tr>\n",
              "      <th>2020-02-01</th>\n",
              "      <td>1.0</td>\n",
              "      <td>0.0</td>\n",
              "      <td>0.0</td>\n",
              "      <td>0.0</td>\n",
              "      <td>0.0</td>\n",
              "      <td>0.0</td>\n",
              "      <td>0.0</td>\n",
              "      <td>0.0</td>\n",
              "      <td>0.0</td>\n",
              "      <td>0.0</td>\n",
              "      <td>10.19</td>\n",
              "      <td>0.0</td>\n",
              "      <td>0.0</td>\n",
              "    </tr>\n",
              "    <tr>\n",
              "      <th>2020-02-02</th>\n",
              "      <td>2.0</td>\n",
              "      <td>1.0</td>\n",
              "      <td>0.0</td>\n",
              "      <td>0.0</td>\n",
              "      <td>0.0</td>\n",
              "      <td>0.0</td>\n",
              "      <td>0.0</td>\n",
              "      <td>0.0</td>\n",
              "      <td>0.0</td>\n",
              "      <td>0.0</td>\n",
              "      <td>10.19</td>\n",
              "      <td>0.0</td>\n",
              "      <td>0.0</td>\n",
              "    </tr>\n",
              "    <tr>\n",
              "      <th>2020-02-03</th>\n",
              "      <td>3.0</td>\n",
              "      <td>1.0</td>\n",
              "      <td>0.0</td>\n",
              "      <td>0.0</td>\n",
              "      <td>0.0</td>\n",
              "      <td>0.0</td>\n",
              "      <td>0.0</td>\n",
              "      <td>0.0</td>\n",
              "      <td>0.0</td>\n",
              "      <td>0.0</td>\n",
              "      <td>10.19</td>\n",
              "      <td>0.0</td>\n",
              "      <td>0.0</td>\n",
              "    </tr>\n",
              "  </tbody>\n",
              "</table>\n",
              "</div>\n",
              "      <button class=\"colab-df-convert\" onclick=\"convertToInteractive('df-bc58599b-e6c6-4580-9395-211a9fe40966')\"\n",
              "              title=\"Convert this dataframe to an interactive table.\"\n",
              "              style=\"display:none;\">\n",
              "        \n",
              "  <svg xmlns=\"http://www.w3.org/2000/svg\" height=\"24px\"viewBox=\"0 0 24 24\"\n",
              "       width=\"24px\">\n",
              "    <path d=\"M0 0h24v24H0V0z\" fill=\"none\"/>\n",
              "    <path d=\"M18.56 5.44l.94 2.06.94-2.06 2.06-.94-2.06-.94-.94-2.06-.94 2.06-2.06.94zm-11 1L8.5 8.5l.94-2.06 2.06-.94-2.06-.94L8.5 2.5l-.94 2.06-2.06.94zm10 10l.94 2.06.94-2.06 2.06-.94-2.06-.94-.94-2.06-.94 2.06-2.06.94z\"/><path d=\"M17.41 7.96l-1.37-1.37c-.4-.4-.92-.59-1.43-.59-.52 0-1.04.2-1.43.59L10.3 9.45l-7.72 7.72c-.78.78-.78 2.05 0 2.83L4 21.41c.39.39.9.59 1.41.59.51 0 1.02-.2 1.41-.59l7.78-7.78 2.81-2.81c.8-.78.8-2.07 0-2.86zM5.41 20L4 18.59l7.72-7.72 1.47 1.35L5.41 20z\"/>\n",
              "  </svg>\n",
              "      </button>\n",
              "      \n",
              "  <style>\n",
              "    .colab-df-container {\n",
              "      display:flex;\n",
              "      flex-wrap:wrap;\n",
              "      gap: 12px;\n",
              "    }\n",
              "\n",
              "    .colab-df-convert {\n",
              "      background-color: #E8F0FE;\n",
              "      border: none;\n",
              "      border-radius: 50%;\n",
              "      cursor: pointer;\n",
              "      display: none;\n",
              "      fill: #1967D2;\n",
              "      height: 32px;\n",
              "      padding: 0 0 0 0;\n",
              "      width: 32px;\n",
              "    }\n",
              "\n",
              "    .colab-df-convert:hover {\n",
              "      background-color: #E2EBFA;\n",
              "      box-shadow: 0px 1px 2px rgba(60, 64, 67, 0.3), 0px 1px 3px 1px rgba(60, 64, 67, 0.15);\n",
              "      fill: #174EA6;\n",
              "    }\n",
              "\n",
              "    [theme=dark] .colab-df-convert {\n",
              "      background-color: #3B4455;\n",
              "      fill: #D2E3FC;\n",
              "    }\n",
              "\n",
              "    [theme=dark] .colab-df-convert:hover {\n",
              "      background-color: #434B5C;\n",
              "      box-shadow: 0px 1px 3px 1px rgba(0, 0, 0, 0.15);\n",
              "      filter: drop-shadow(0px 1px 2px rgba(0, 0, 0, 0.3));\n",
              "      fill: #FFFFFF;\n",
              "    }\n",
              "  </style>\n",
              "\n",
              "      <script>\n",
              "        const buttonEl =\n",
              "          document.querySelector('#df-bc58599b-e6c6-4580-9395-211a9fe40966 button.colab-df-convert');\n",
              "        buttonEl.style.display =\n",
              "          google.colab.kernel.accessAllowed ? 'block' : 'none';\n",
              "\n",
              "        async function convertToInteractive(key) {\n",
              "          const element = document.querySelector('#df-bc58599b-e6c6-4580-9395-211a9fe40966');\n",
              "          const dataTable =\n",
              "            await google.colab.kernel.invokeFunction('convertToInteractive',\n",
              "                                                     [key], {});\n",
              "          if (!dataTable) return;\n",
              "\n",
              "          const docLinkHtml = 'Like what you see? Visit the ' +\n",
              "            '<a target=\"_blank\" href=https://colab.research.google.com/notebooks/data_table.ipynb>data table notebook</a>'\n",
              "            + ' to learn more about interactive tables.';\n",
              "          element.innerHTML = '';\n",
              "          dataTable['output_type'] = 'display_data';\n",
              "          await google.colab.output.renderOutput(dataTable, element);\n",
              "          const docLink = document.createElement('div');\n",
              "          docLink.innerHTML = docLinkHtml;\n",
              "          element.appendChild(docLink);\n",
              "        }\n",
              "      </script>\n",
              "    </div>\n",
              "  </div>\n",
              "  "
            ]
          },
          "metadata": {},
          "execution_count": 28
        }
      ]
    },
    {
      "cell_type": "markdown",
      "source": [
        "Uma informação importante que podemos tirar desse *dataset* é a quantidade de dias entre o surgimento da doença no país e a primeira morte."
      ],
      "metadata": {
        "id": "GprOHH0d78dJ"
      }
    },
    {
      "cell_type": "code",
      "source": [
        "days = (india.loc[india['new_deaths'] != 0][:1].index - india.index[:1])\n",
        "print(days[0])"
      ],
      "metadata": {
        "colab": {
          "base_uri": "https://localhost:8080/"
        },
        "outputId": "4ea176bc-9a76-437b-f9ba-1d2519706a43",
        "id": "ZLagvsSG0Ggb"
      },
      "execution_count": null,
      "outputs": [
        {
          "output_type": "stream",
          "name": "stdout",
          "text": [
            "41 days 00:00:00\n"
          ]
        }
      ]
    },
    {
      "cell_type": "markdown",
      "source": [
        "No caso da **Índia** foram **41 dias** entre o primeiro caso e a primeira morte devido ao COVID19\n",
        "\n",
        "---"
      ],
      "metadata": {
        "id": "mgiBxbpu78dJ"
      }
    },
    {
      "cell_type": "markdown",
      "source": [
        "Um dos momentos mais esperados pelas nações durante a pandemia foi a possibilidade de **imunizar suas populações com a vacina.**"
      ],
      "metadata": {
        "id": "dPVDJJqA78dJ"
      }
    },
    {
      "cell_type": "code",
      "source": [
        "india.loc[india['people_vaccinated'] != 0][:1]"
      ],
      "metadata": {
        "colab": {
          "base_uri": "https://localhost:8080/",
          "height": 193
        },
        "outputId": "b51c715a-7487-4e52-f274-b751f175e9f3",
        "id": "NoPX-AVq0Ggb"
      },
      "execution_count": null,
      "outputs": [
        {
          "output_type": "execute_result",
          "data": {
            "text/plain": [
              "            total_cases  new_cases  total_deaths  new_deaths  icu_patients  \\\n",
              "date                                                                         \n",
              "2021-01-16   10557985.0    15144.0      152274.0       181.0           0.0   \n",
              "\n",
              "            hosp_patients  total_tests  new_tests  tests_per_case  \\\n",
              "date                                                                \n",
              "2021-01-16            0.0  185765491.0   803090.0            51.2   \n",
              "\n",
              "            people_vaccinated  stringency_index  new_cases_smoothed  \\\n",
              "date                                                                  \n",
              "2021-01-16           191181.0             68.98           15385.857   \n",
              "\n",
              "            new_deaths_smoothed  \n",
              "date                             \n",
              "2021-01-16              182.143  "
            ],
            "text/html": [
              "\n",
              "  <div id=\"df-2c9fb222-e485-401e-8b55-e985cb5e16cb\">\n",
              "    <div class=\"colab-df-container\">\n",
              "      <div>\n",
              "<style scoped>\n",
              "    .dataframe tbody tr th:only-of-type {\n",
              "        vertical-align: middle;\n",
              "    }\n",
              "\n",
              "    .dataframe tbody tr th {\n",
              "        vertical-align: top;\n",
              "    }\n",
              "\n",
              "    .dataframe thead th {\n",
              "        text-align: right;\n",
              "    }\n",
              "</style>\n",
              "<table border=\"1\" class=\"dataframe\">\n",
              "  <thead>\n",
              "    <tr style=\"text-align: right;\">\n",
              "      <th></th>\n",
              "      <th>total_cases</th>\n",
              "      <th>new_cases</th>\n",
              "      <th>total_deaths</th>\n",
              "      <th>new_deaths</th>\n",
              "      <th>icu_patients</th>\n",
              "      <th>hosp_patients</th>\n",
              "      <th>total_tests</th>\n",
              "      <th>new_tests</th>\n",
              "      <th>tests_per_case</th>\n",
              "      <th>people_vaccinated</th>\n",
              "      <th>stringency_index</th>\n",
              "      <th>new_cases_smoothed</th>\n",
              "      <th>new_deaths_smoothed</th>\n",
              "    </tr>\n",
              "    <tr>\n",
              "      <th>date</th>\n",
              "      <th></th>\n",
              "      <th></th>\n",
              "      <th></th>\n",
              "      <th></th>\n",
              "      <th></th>\n",
              "      <th></th>\n",
              "      <th></th>\n",
              "      <th></th>\n",
              "      <th></th>\n",
              "      <th></th>\n",
              "      <th></th>\n",
              "      <th></th>\n",
              "      <th></th>\n",
              "    </tr>\n",
              "  </thead>\n",
              "  <tbody>\n",
              "    <tr>\n",
              "      <th>2021-01-16</th>\n",
              "      <td>10557985.0</td>\n",
              "      <td>15144.0</td>\n",
              "      <td>152274.0</td>\n",
              "      <td>181.0</td>\n",
              "      <td>0.0</td>\n",
              "      <td>0.0</td>\n",
              "      <td>185765491.0</td>\n",
              "      <td>803090.0</td>\n",
              "      <td>51.2</td>\n",
              "      <td>191181.0</td>\n",
              "      <td>68.98</td>\n",
              "      <td>15385.857</td>\n",
              "      <td>182.143</td>\n",
              "    </tr>\n",
              "  </tbody>\n",
              "</table>\n",
              "</div>\n",
              "      <button class=\"colab-df-convert\" onclick=\"convertToInteractive('df-2c9fb222-e485-401e-8b55-e985cb5e16cb')\"\n",
              "              title=\"Convert this dataframe to an interactive table.\"\n",
              "              style=\"display:none;\">\n",
              "        \n",
              "  <svg xmlns=\"http://www.w3.org/2000/svg\" height=\"24px\"viewBox=\"0 0 24 24\"\n",
              "       width=\"24px\">\n",
              "    <path d=\"M0 0h24v24H0V0z\" fill=\"none\"/>\n",
              "    <path d=\"M18.56 5.44l.94 2.06.94-2.06 2.06-.94-2.06-.94-.94-2.06-.94 2.06-2.06.94zm-11 1L8.5 8.5l.94-2.06 2.06-.94-2.06-.94L8.5 2.5l-.94 2.06-2.06.94zm10 10l.94 2.06.94-2.06 2.06-.94-2.06-.94-.94-2.06-.94 2.06-2.06.94z\"/><path d=\"M17.41 7.96l-1.37-1.37c-.4-.4-.92-.59-1.43-.59-.52 0-1.04.2-1.43.59L10.3 9.45l-7.72 7.72c-.78.78-.78 2.05 0 2.83L4 21.41c.39.39.9.59 1.41.59.51 0 1.02-.2 1.41-.59l7.78-7.78 2.81-2.81c.8-.78.8-2.07 0-2.86zM5.41 20L4 18.59l7.72-7.72 1.47 1.35L5.41 20z\"/>\n",
              "  </svg>\n",
              "      </button>\n",
              "      \n",
              "  <style>\n",
              "    .colab-df-container {\n",
              "      display:flex;\n",
              "      flex-wrap:wrap;\n",
              "      gap: 12px;\n",
              "    }\n",
              "\n",
              "    .colab-df-convert {\n",
              "      background-color: #E8F0FE;\n",
              "      border: none;\n",
              "      border-radius: 50%;\n",
              "      cursor: pointer;\n",
              "      display: none;\n",
              "      fill: #1967D2;\n",
              "      height: 32px;\n",
              "      padding: 0 0 0 0;\n",
              "      width: 32px;\n",
              "    }\n",
              "\n",
              "    .colab-df-convert:hover {\n",
              "      background-color: #E2EBFA;\n",
              "      box-shadow: 0px 1px 2px rgba(60, 64, 67, 0.3), 0px 1px 3px 1px rgba(60, 64, 67, 0.15);\n",
              "      fill: #174EA6;\n",
              "    }\n",
              "\n",
              "    [theme=dark] .colab-df-convert {\n",
              "      background-color: #3B4455;\n",
              "      fill: #D2E3FC;\n",
              "    }\n",
              "\n",
              "    [theme=dark] .colab-df-convert:hover {\n",
              "      background-color: #434B5C;\n",
              "      box-shadow: 0px 1px 3px 1px rgba(0, 0, 0, 0.15);\n",
              "      filter: drop-shadow(0px 1px 2px rgba(0, 0, 0, 0.3));\n",
              "      fill: #FFFFFF;\n",
              "    }\n",
              "  </style>\n",
              "\n",
              "      <script>\n",
              "        const buttonEl =\n",
              "          document.querySelector('#df-2c9fb222-e485-401e-8b55-e985cb5e16cb button.colab-df-convert');\n",
              "        buttonEl.style.display =\n",
              "          google.colab.kernel.accessAllowed ? 'block' : 'none';\n",
              "\n",
              "        async function convertToInteractive(key) {\n",
              "          const element = document.querySelector('#df-2c9fb222-e485-401e-8b55-e985cb5e16cb');\n",
              "          const dataTable =\n",
              "            await google.colab.kernel.invokeFunction('convertToInteractive',\n",
              "                                                     [key], {});\n",
              "          if (!dataTable) return;\n",
              "\n",
              "          const docLinkHtml = 'Like what you see? Visit the ' +\n",
              "            '<a target=\"_blank\" href=https://colab.research.google.com/notebooks/data_table.ipynb>data table notebook</a>'\n",
              "            + ' to learn more about interactive tables.';\n",
              "          element.innerHTML = '';\n",
              "          dataTable['output_type'] = 'display_data';\n",
              "          await google.colab.output.renderOutput(dataTable, element);\n",
              "          const docLink = document.createElement('div');\n",
              "          docLink.innerHTML = docLinkHtml;\n",
              "          element.appendChild(docLink);\n",
              "        }\n",
              "      </script>\n",
              "    </div>\n",
              "  </div>\n",
              "  "
            ]
          },
          "metadata": {},
          "execution_count": 30
        }
      ]
    },
    {
      "cell_type": "markdown",
      "source": [
        "Para a Índia, esse momento ocorreu no **dia 16/01/2021**"
      ],
      "metadata": {
        "id": "rULQN99S78dJ"
      }
    },
    {
      "cell_type": "code",
      "source": [
        "indpre = india.loc[india.index < '2021-01-16']\n",
        "indpos = india.loc[india.index >= '2021-01-16']"
      ],
      "metadata": {
        "id": "fYnglHI40Ggb"
      },
      "execution_count": null,
      "outputs": []
    },
    {
      "cell_type": "code",
      "source": [
        "fig, ax = plt.subplots(nrows=1,ncols=2,figsize = (20,5))\n",
        "\n",
        "ax[0].plot(indpre.index, indpre.new_cases_smoothed)\n",
        "ax[0].plot(indpos.index, indpos.new_cases)\n",
        "\n",
        "ax[1].plot(indpre.index, indpre.new_deaths_smoothed)\n",
        "ax[1].plot(indpos.index, indpos.new_deaths_smoothed)\n",
        "\n",
        "plt.show()"
      ],
      "metadata": {
        "colab": {
          "base_uri": "https://localhost:8080/",
          "height": 320
        },
        "outputId": "6c88e49a-0016-41cf-8cb6-408d1ecd7f5e",
        "id": "cWbe1n570Ggb"
      },
      "execution_count": null,
      "outputs": [
        {
          "output_type": "display_data",
          "data": {
            "text/plain": [
              "<Figure size 1440x360 with 2 Axes>"
            ],
            "image/png": "[encoded data removed]"
          },
          "metadata": {
            "needs_background": "light"
          }
        }
      ]
    },
    {
      "cell_type": "markdown",
      "source": [
        "Acima vemos o gráfico da quantidade de novos casos e novas mortes em uma linha do tempo. Podemos ver:\n",
        "* Um decrescimo das ocorrencias antes da aplicação das vacinas.\n",
        "* Um aumento dos casos em um nível assustador logo após o processo vacinal, devido as novas variantes da doença que surgiram na região, causando um nível muito elevado de mortes.\n",
        "* Outro pico de casos no início de 2022.\n",
        "* Mesmo com o avanço das variantes em 2022, o nível de mortes não superou os níveis anteriores.  "
      ],
      "metadata": {
        "id": "imWlDxRW78dK"
      }
    },
    {
      "cell_type": "code",
      "source": [
        "fig, ax = plt.subplots(nrows=2,ncols=2,figsize = (20,10))\n",
        "\n",
        "ax[0][0].plot(range(1,len(india)+1), india.total_cases)\n",
        "ax[0][1].plot(range(1,len(india)+1), india.total_deaths)\n",
        "ax[1][0].semilogy(range(1,len(india)+1), india.total_cases)\n",
        "ax[1][1].semilogy(range(1,len(india)+1), india.total_deaths)"
      ],
      "metadata": {
        "colab": {
          "base_uri": "https://localhost:8080/",
          "height": 620
        },
        "outputId": "20fa9a61-882c-43ec-8d46-2adc60fbb6bf",
        "id": "gwLHUzB-0Ggb"
      },
      "execution_count": null,
      "outputs": [
        {
          "output_type": "execute_result",
          "data": {
            "text/plain": [
              "[<matplotlib.lines.Line2D at 0x7f9867b32d10>]"
            ]
          },
          "metadata": {},
          "execution_count": 33
        },
        {
          "output_type": "display_data",
          "data": {
            "text/plain": [
              "<Figure size 1440x720 with 4 Axes>"
            ],
            "image/png": "[encoded data removed]"
          },
          "metadata": {
            "needs_background": "light"
          }
        }
      ]
    },
    {
      "cell_type": "markdown",
      "source": [
        "Por fim, deixo a evolução dos totais de casos e mortes nos Estados Unidos, tanto na base decimal quanto na bae logarítmica."
      ],
      "metadata": {
        "id": "ANK91rbw78dK"
      }
    },
    {
      "cell_type": "markdown",
      "source": [
        "## Brasil"
      ],
      "metadata": {
        "id": "PYebACa_Cmej"
      }
    },
    {
      "cell_type": "markdown",
      "source": [
        "Em primeiro momento farei um filtro da base de dados originais, buscando em `location` o país em análise, em seguida vou indexar a tabela por data e tratar os valores nulos. "
      ],
      "metadata": {
        "id": "ujSE6L-D-dqt"
      }
    },
    {
      "cell_type": "code",
      "source": [
        "brazil = covid.loc[covid['location'] == 'Brazil']\n",
        "brazil = brazil[['date', 'total_cases', 'new_cases', 'total_deaths', 'new_deaths', 'icu_patients', 'hosp_patients', 'total_tests', 'new_tests', 'tests_per_case', 'people_vaccinated', 'stringency_index', 'new_cases_smoothed', 'new_deaths_smoothed']]\n",
        "brazil.set_index('date', inplace=True)\n",
        "brazil = brazil.fillna(0)\n",
        "brazil.head()"
      ],
      "metadata": {
        "colab": {
          "base_uri": "https://localhost:8080/",
          "height": 388
        },
        "id": "tgiBifxtEgYK",
        "outputId": "caa197e8-6f87-4350-ee1b-6967250d7f5a"
      },
      "execution_count": null,
      "outputs": [
        {
          "output_type": "execute_result",
          "data": {
            "text/plain": [
              "            total_cases  new_cases  total_deaths  new_deaths  icu_patients  \\\n",
              "date                                                                         \n",
              "2020-02-26          1.0        1.0           0.0         0.0           0.0   \n",
              "2020-02-27          1.0        0.0           0.0         0.0           0.0   \n",
              "2020-02-28          1.0        0.0           0.0         0.0           0.0   \n",
              "2020-02-29          2.0        1.0           0.0         0.0           0.0   \n",
              "2020-03-01          2.0        0.0           0.0         0.0           0.0   \n",
              "\n",
              "            hosp_patients  total_tests  new_tests  tests_per_case  \\\n",
              "date                                                                \n",
              "2020-02-26            0.0          0.0        0.0             0.0   \n",
              "2020-02-27            0.0          0.0        0.0             0.0   \n",
              "2020-02-28            0.0          0.0        0.0             0.0   \n",
              "2020-02-29            0.0          0.0        0.0             0.0   \n",
              "2020-03-01            0.0          0.0        0.0             0.0   \n",
              "\n",
              "            people_vaccinated  stringency_index  new_cases_smoothed  \\\n",
              "date                                                                  \n",
              "2020-02-26                0.0              5.56                 0.0   \n",
              "2020-02-27                0.0              5.56                 0.0   \n",
              "2020-02-28                0.0              5.56                 0.0   \n",
              "2020-02-29                0.0              5.56                 0.0   \n",
              "2020-03-01                0.0              5.56                 0.0   \n",
              "\n",
              "            new_deaths_smoothed  \n",
              "date                             \n",
              "2020-02-26                  0.0  \n",
              "2020-02-27                  0.0  \n",
              "2020-02-28                  0.0  \n",
              "2020-02-29                  0.0  \n",
              "2020-03-01                  0.0  "
            ],
            "text/html": [
              "\n",
              "  <div id=\"df-acc957b3-add3-4cbf-a5e4-2b73675be701\">\n",
              "    <div class=\"colab-df-container\">\n",
              "      <div>\n",
              "<style scoped>\n",
              "    .dataframe tbody tr th:only-of-type {\n",
              "        vertical-align: middle;\n",
              "    }\n",
              "\n",
              "    .dataframe tbody tr th {\n",
              "        vertical-align: top;\n",
              "    }\n",
              "\n",
              "    .dataframe thead th {\n",
              "        text-align: right;\n",
              "    }\n",
              "</style>\n",
              "<table border=\"1\" class=\"dataframe\">\n",
              "  <thead>\n",
              "    <tr style=\"text-align: right;\">\n",
              "      <th></th>\n",
              "      <th>total_cases</th>\n",
              "      <th>new_cases</th>\n",
              "      <th>total_deaths</th>\n",
              "      <th>new_deaths</th>\n",
              "      <th>icu_patients</th>\n",
              "      <th>hosp_patients</th>\n",
              "      <th>total_tests</th>\n",
              "      <th>new_tests</th>\n",
              "      <th>tests_per_case</th>\n",
              "      <th>people_vaccinated</th>\n",
              "      <th>stringency_index</th>\n",
              "      <th>new_cases_smoothed</th>\n",
              "      <th>new_deaths_smoothed</th>\n",
              "    </tr>\n",
              "    <tr>\n",
              "      <th>date</th>\n",
              "      <th></th>\n",
              "      <th></th>\n",
              "      <th></th>\n",
              "      <th></th>\n",
              "      <th></th>\n",
              "      <th></th>\n",
              "      <th></th>\n",
              "      <th></th>\n",
              "      <th></th>\n",
              "      <th></th>\n",
              "      <th></th>\n",
              "      <th></th>\n",
              "      <th></th>\n",
              "    </tr>\n",
              "  </thead>\n",
              "  <tbody>\n",
              "    <tr>\n",
              "      <th>2020-02-26</th>\n",
              "      <td>1.0</td>\n",
              "      <td>1.0</td>\n",
              "      <td>0.0</td>\n",
              "      <td>0.0</td>\n",
              "      <td>0.0</td>\n",
              "      <td>0.0</td>\n",
              "      <td>0.0</td>\n",
              "      <td>0.0</td>\n",
              "      <td>0.0</td>\n",
              "      <td>0.0</td>\n",
              "      <td>5.56</td>\n",
              "      <td>0.0</td>\n",
              "      <td>0.0</td>\n",
              "    </tr>\n",
              "    <tr>\n",
              "      <th>2020-02-27</th>\n",
              "      <td>1.0</td>\n",
              "      <td>0.0</td>\n",
              "      <td>0.0</td>\n",
              "      <td>0.0</td>\n",
              "      <td>0.0</td>\n",
              "      <td>0.0</td>\n",
              "      <td>0.0</td>\n",
              "      <td>0.0</td>\n",
              "      <td>0.0</td>\n",
              "      <td>0.0</td>\n",
              "      <td>5.56</td>\n",
              "      <td>0.0</td>\n",
              "      <td>0.0</td>\n",
              "    </tr>\n",
              "    <tr>\n",
              "      <th>2020-02-28</th>\n",
              "      <td>1.0</td>\n",
              "      <td>0.0</td>\n",
              "      <td>0.0</td>\n",
              "      <td>0.0</td>\n",
              "      <td>0.0</td>\n",
              "      <td>0.0</td>\n",
              "      <td>0.0</td>\n",
              "      <td>0.0</td>\n",
              "      <td>0.0</td>\n",
              "      <td>0.0</td>\n",
              "      <td>5.56</td>\n",
              "      <td>0.0</td>\n",
              "      <td>0.0</td>\n",
              "    </tr>\n",
              "    <tr>\n",
              "      <th>2020-02-29</th>\n",
              "      <td>2.0</td>\n",
              "      <td>1.0</td>\n",
              "      <td>0.0</td>\n",
              "      <td>0.0</td>\n",
              "      <td>0.0</td>\n",
              "      <td>0.0</td>\n",
              "      <td>0.0</td>\n",
              "      <td>0.0</td>\n",
              "      <td>0.0</td>\n",
              "      <td>0.0</td>\n",
              "      <td>5.56</td>\n",
              "      <td>0.0</td>\n",
              "      <td>0.0</td>\n",
              "    </tr>\n",
              "    <tr>\n",
              "      <th>2020-03-01</th>\n",
              "      <td>2.0</td>\n",
              "      <td>0.0</td>\n",
              "      <td>0.0</td>\n",
              "      <td>0.0</td>\n",
              "      <td>0.0</td>\n",
              "      <td>0.0</td>\n",
              "      <td>0.0</td>\n",
              "      <td>0.0</td>\n",
              "      <td>0.0</td>\n",
              "      <td>0.0</td>\n",
              "      <td>5.56</td>\n",
              "      <td>0.0</td>\n",
              "      <td>0.0</td>\n",
              "    </tr>\n",
              "  </tbody>\n",
              "</table>\n",
              "</div>\n",
              "      <button class=\"colab-df-convert\" onclick=\"convertToInteractive('df-acc957b3-add3-4cbf-a5e4-2b73675be701')\"\n",
              "              title=\"Convert this dataframe to an interactive table.\"\n",
              "              style=\"display:none;\">\n",
              "        \n",
              "  <svg xmlns=\"http://www.w3.org/2000/svg\" height=\"24px\"viewBox=\"0 0 24 24\"\n",
              "       width=\"24px\">\n",
              "    <path d=\"M0 0h24v24H0V0z\" fill=\"none\"/>\n",
              "    <path d=\"M18.56 5.44l.94 2.06.94-2.06 2.06-.94-2.06-.94-.94-2.06-.94 2.06-2.06.94zm-11 1L8.5 8.5l.94-2.06 2.06-.94-2.06-.94L8.5 2.5l-.94 2.06-2.06.94zm10 10l.94 2.06.94-2.06 2.06-.94-2.06-.94-.94-2.06-.94 2.06-2.06.94z\"/><path d=\"M17.41 7.96l-1.37-1.37c-.4-.4-.92-.59-1.43-.59-.52 0-1.04.2-1.43.59L10.3 9.45l-7.72 7.72c-.78.78-.78 2.05 0 2.83L4 21.41c.39.39.9.59 1.41.59.51 0 1.02-.2 1.41-.59l7.78-7.78 2.81-2.81c.8-.78.8-2.07 0-2.86zM5.41 20L4 18.59l7.72-7.72 1.47 1.35L5.41 20z\"/>\n",
              "  </svg>\n",
              "      </button>\n",
              "      \n",
              "  <style>\n",
              "    .colab-df-container {\n",
              "      display:flex;\n",
              "      flex-wrap:wrap;\n",
              "      gap: 12px;\n",
              "    }\n",
              "\n",
              "    .colab-df-convert {\n",
              "      background-color: #E8F0FE;\n",
              "      border: none;\n",
              "      border-radius: 50%;\n",
              "      cursor: pointer;\n",
              "      display: none;\n",
              "      fill: #1967D2;\n",
              "      height: 32px;\n",
              "      padding: 0 0 0 0;\n",
              "      width: 32px;\n",
              "    }\n",
              "\n",
              "    .colab-df-convert:hover {\n",
              "      background-color: #E2EBFA;\n",
              "      box-shadow: 0px 1px 2px rgba(60, 64, 67, 0.3), 0px 1px 3px 1px rgba(60, 64, 67, 0.15);\n",
              "      fill: #174EA6;\n",
              "    }\n",
              "\n",
              "    [theme=dark] .colab-df-convert {\n",
              "      background-color: #3B4455;\n",
              "      fill: #D2E3FC;\n",
              "    }\n",
              "\n",
              "    [theme=dark] .colab-df-convert:hover {\n",
              "      background-color: #434B5C;\n",
              "      box-shadow: 0px 1px 3px 1px rgba(0, 0, 0, 0.15);\n",
              "      filter: drop-shadow(0px 1px 2px rgba(0, 0, 0, 0.3));\n",
              "      fill: #FFFFFF;\n",
              "    }\n",
              "  </style>\n",
              "\n",
              "      <script>\n",
              "        const buttonEl =\n",
              "          document.querySelector('#df-acc957b3-add3-4cbf-a5e4-2b73675be701 button.colab-df-convert');\n",
              "        buttonEl.style.display =\n",
              "          google.colab.kernel.accessAllowed ? 'block' : 'none';\n",
              "\n",
              "        async function convertToInteractive(key) {\n",
              "          const element = document.querySelector('#df-acc957b3-add3-4cbf-a5e4-2b73675be701');\n",
              "          const dataTable =\n",
              "            await google.colab.kernel.invokeFunction('convertToInteractive',\n",
              "                                                     [key], {});\n",
              "          if (!dataTable) return;\n",
              "\n",
              "          const docLinkHtml = 'Like what you see? Visit the ' +\n",
              "            '<a target=\"_blank\" href=https://colab.research.google.com/notebooks/data_table.ipynb>data table notebook</a>'\n",
              "            + ' to learn more about interactive tables.';\n",
              "          element.innerHTML = '';\n",
              "          dataTable['output_type'] = 'display_data';\n",
              "          await google.colab.output.renderOutput(dataTable, element);\n",
              "          const docLink = document.createElement('div');\n",
              "          docLink.innerHTML = docLinkHtml;\n",
              "          element.appendChild(docLink);\n",
              "        }\n",
              "      </script>\n",
              "    </div>\n",
              "  </div>\n",
              "  "
            ]
          },
          "metadata": {},
          "execution_count": 34
        }
      ]
    },
    {
      "cell_type": "markdown",
      "source": [
        "Uma informação importante que podemos tirar desse *dataset* é a quantidade de dias entre o surgimento da doença no país e a primeira morte."
      ],
      "metadata": {
        "id": "9SibX9QE-dq0"
      }
    },
    {
      "cell_type": "code",
      "source": [
        "days = (brazil.loc[brazil['new_deaths'] != 0][:1].index - brazil.index[:1])\n",
        "print(days[0])"
      ],
      "metadata": {
        "colab": {
          "base_uri": "https://localhost:8080/"
        },
        "id": "vmJ8bmEdz0Ht",
        "outputId": "0dd93975-f9b4-499b-a1df-1bd7a8932c1d"
      },
      "execution_count": null,
      "outputs": [
        {
          "output_type": "stream",
          "name": "stdout",
          "text": [
            "20 days 00:00:00\n"
          ]
        }
      ]
    },
    {
      "cell_type": "markdown",
      "source": [
        "No caso do **Brasil** foram **20 dias** entre o primeiro caso e a primeira morte devido ao COVID19\n",
        "\n",
        "---"
      ],
      "metadata": {
        "id": "ZMcPikc6-dq0"
      }
    },
    {
      "cell_type": "markdown",
      "source": [
        "Um dos momentos mais esperados pelas nações durante a pandemia foi a possibilidade de **imunizar suas populações com a vacina.**"
      ],
      "metadata": {
        "id": "Y9vQqzJK-dq0"
      }
    },
    {
      "cell_type": "code",
      "source": [
        "brazil.loc[brazil['people_vaccinated'] != 0][:1]"
      ],
      "metadata": {
        "colab": {
          "base_uri": "https://localhost:8080/",
          "height": 193
        },
        "id": "ebgSSwGarL6g",
        "outputId": "ebb3dd61-37a4-40fe-892f-8662db078b48"
      },
      "execution_count": null,
      "outputs": [
        {
          "output_type": "execute_result",
          "data": {
            "text/plain": [
              "            total_cases  new_cases  total_deaths  new_deaths  icu_patients  \\\n",
              "date                                                                         \n",
              "2021-01-17    8492403.0    31416.0      209993.0       551.0           0.0   \n",
              "\n",
              "            hosp_patients  total_tests  new_tests  tests_per_case  \\\n",
              "date                                                                \n",
              "2021-01-17            0.0   30244995.0    50564.0             0.0   \n",
              "\n",
              "            people_vaccinated  stringency_index  new_cases_smoothed  \\\n",
              "date                                                                  \n",
              "2021-01-17              112.0             72.69           54612.143   \n",
              "\n",
              "            new_deaths_smoothed  \n",
              "date                             \n",
              "2021-01-17                962.0  "
            ],
            "text/html": [
              "\n",
              "  <div id=\"df-5374456a-709a-46bf-9a8b-c57edc3e217c\">\n",
              "    <div class=\"colab-df-container\">\n",
              "      <div>\n",
              "<style scoped>\n",
              "    .dataframe tbody tr th:only-of-type {\n",
              "        vertical-align: middle;\n",
              "    }\n",
              "\n",
              "    .dataframe tbody tr th {\n",
              "        vertical-align: top;\n",
              "    }\n",
              "\n",
              "    .dataframe thead th {\n",
              "        text-align: right;\n",
              "    }\n",
              "</style>\n",
              "<table border=\"1\" class=\"dataframe\">\n",
              "  <thead>\n",
              "    <tr style=\"text-align: right;\">\n",
              "      <th></th>\n",
              "      <th>total_cases</th>\n",
              "      <th>new_cases</th>\n",
              "      <th>total_deaths</th>\n",
              "      <th>new_deaths</th>\n",
              "      <th>icu_patients</th>\n",
              "      <th>hosp_patients</th>\n",
              "      <th>total_tests</th>\n",
              "      <th>new_tests</th>\n",
              "      <th>tests_per_case</th>\n",
              "      <th>people_vaccinated</th>\n",
              "      <th>stringency_index</th>\n",
              "      <th>new_cases_smoothed</th>\n",
              "      <th>new_deaths_smoothed</th>\n",
              "    </tr>\n",
              "    <tr>\n",
              "      <th>date</th>\n",
              "      <th></th>\n",
              "      <th></th>\n",
              "      <th></th>\n",
              "      <th></th>\n",
              "      <th></th>\n",
              "      <th></th>\n",
              "      <th></th>\n",
              "      <th></th>\n",
              "      <th></th>\n",
              "      <th></th>\n",
              "      <th></th>\n",
              "      <th></th>\n",
              "      <th></th>\n",
              "    </tr>\n",
              "  </thead>\n",
              "  <tbody>\n",
              "    <tr>\n",
              "      <th>2021-01-17</th>\n",
              "      <td>8492403.0</td>\n",
              "      <td>31416.0</td>\n",
              "      <td>209993.0</td>\n",
              "      <td>551.0</td>\n",
              "      <td>0.0</td>\n",
              "      <td>0.0</td>\n",
              "      <td>30244995.0</td>\n",
              "      <td>50564.0</td>\n",
              "      <td>0.0</td>\n",
              "      <td>112.0</td>\n",
              "      <td>72.69</td>\n",
              "      <td>54612.143</td>\n",
              "      <td>962.0</td>\n",
              "    </tr>\n",
              "  </tbody>\n",
              "</table>\n",
              "</div>\n",
              "      <button class=\"colab-df-convert\" onclick=\"convertToInteractive('df-5374456a-709a-46bf-9a8b-c57edc3e217c')\"\n",
              "              title=\"Convert this dataframe to an interactive table.\"\n",
              "              style=\"display:none;\">\n",
              "        \n",
              "  <svg xmlns=\"http://www.w3.org/2000/svg\" height=\"24px\"viewBox=\"0 0 24 24\"\n",
              "       width=\"24px\">\n",
              "    <path d=\"M0 0h24v24H0V0z\" fill=\"none\"/>\n",
              "    <path d=\"M18.56 5.44l.94 2.06.94-2.06 2.06-.94-2.06-.94-.94-2.06-.94 2.06-2.06.94zm-11 1L8.5 8.5l.94-2.06 2.06-.94-2.06-.94L8.5 2.5l-.94 2.06-2.06.94zm10 10l.94 2.06.94-2.06 2.06-.94-2.06-.94-.94-2.06-.94 2.06-2.06.94z\"/><path d=\"M17.41 7.96l-1.37-1.37c-.4-.4-.92-.59-1.43-.59-.52 0-1.04.2-1.43.59L10.3 9.45l-7.72 7.72c-.78.78-.78 2.05 0 2.83L4 21.41c.39.39.9.59 1.41.59.51 0 1.02-.2 1.41-.59l7.78-7.78 2.81-2.81c.8-.78.8-2.07 0-2.86zM5.41 20L4 18.59l7.72-7.72 1.47 1.35L5.41 20z\"/>\n",
              "  </svg>\n",
              "      </button>\n",
              "      \n",
              "  <style>\n",
              "    .colab-df-container {\n",
              "      display:flex;\n",
              "      flex-wrap:wrap;\n",
              "      gap: 12px;\n",
              "    }\n",
              "\n",
              "    .colab-df-convert {\n",
              "      background-color: #E8F0FE;\n",
              "      border: none;\n",
              "      border-radius: 50%;\n",
              "      cursor: pointer;\n",
              "      display: none;\n",
              "      fill: #1967D2;\n",
              "      height: 32px;\n",
              "      padding: 0 0 0 0;\n",
              "      width: 32px;\n",
              "    }\n",
              "\n",
              "    .colab-df-convert:hover {\n",
              "      background-color: #E2EBFA;\n",
              "      box-shadow: 0px 1px 2px rgba(60, 64, 67, 0.3), 0px 1px 3px 1px rgba(60, 64, 67, 0.15);\n",
              "      fill: #174EA6;\n",
              "    }\n",
              "\n",
              "    [theme=dark] .colab-df-convert {\n",
              "      background-color: #3B4455;\n",
              "      fill: #D2E3FC;\n",
              "    }\n",
              "\n",
              "    [theme=dark] .colab-df-convert:hover {\n",
              "      background-color: #434B5C;\n",
              "      box-shadow: 0px 1px 3px 1px rgba(0, 0, 0, 0.15);\n",
              "      filter: drop-shadow(0px 1px 2px rgba(0, 0, 0, 0.3));\n",
              "      fill: #FFFFFF;\n",
              "    }\n",
              "  </style>\n",
              "\n",
              "      <script>\n",
              "        const buttonEl =\n",
              "          document.querySelector('#df-5374456a-709a-46bf-9a8b-c57edc3e217c button.colab-df-convert');\n",
              "        buttonEl.style.display =\n",
              "          google.colab.kernel.accessAllowed ? 'block' : 'none';\n",
              "\n",
              "        async function convertToInteractive(key) {\n",
              "          const element = document.querySelector('#df-5374456a-709a-46bf-9a8b-c57edc3e217c');\n",
              "          const dataTable =\n",
              "            await google.colab.kernel.invokeFunction('convertToInteractive',\n",
              "                                                     [key], {});\n",
              "          if (!dataTable) return;\n",
              "\n",
              "          const docLinkHtml = 'Like what you see? Visit the ' +\n",
              "            '<a target=\"_blank\" href=https://colab.research.google.com/notebooks/data_table.ipynb>data table notebook</a>'\n",
              "            + ' to learn more about interactive tables.';\n",
              "          element.innerHTML = '';\n",
              "          dataTable['output_type'] = 'display_data';\n",
              "          await google.colab.output.renderOutput(dataTable, element);\n",
              "          const docLink = document.createElement('div');\n",
              "          docLink.innerHTML = docLinkHtml;\n",
              "          element.appendChild(docLink);\n",
              "        }\n",
              "      </script>\n",
              "    </div>\n",
              "  </div>\n",
              "  "
            ]
          },
          "metadata": {},
          "execution_count": 36
        }
      ]
    },
    {
      "cell_type": "markdown",
      "source": [
        "Para o Brasil, esse momento ocorreu no **dia 17/01/2021**"
      ],
      "metadata": {
        "id": "ZBGlUXp5-dq1"
      }
    },
    {
      "cell_type": "code",
      "source": [
        "brpre = brazil.loc[brazil.index < '2021-01-17']\n",
        "brpos = brazil.loc[brazil.index >= '2021-01-17']"
      ],
      "metadata": {
        "id": "aIzylIxbtu9m"
      },
      "execution_count": null,
      "outputs": []
    },
    {
      "cell_type": "code",
      "source": [
        "fig, ax = plt.subplots(nrows=1,ncols=2,figsize = (20,5))\n",
        "\n",
        "ax[0].plot(brpre.index, brpre.new_cases_smoothed)\n",
        "ax[0].plot(brpos.index, brpos.new_cases_smoothed)\n",
        "\n",
        "ax[1].plot(brpre.index, brpre.new_deaths_smoothed)\n",
        "ax[1].plot(brpos.index, brpos.new_deaths_smoothed)\n",
        "\n",
        "plt.show()"
      ],
      "metadata": {
        "colab": {
          "base_uri": "https://localhost:8080/",
          "height": 320
        },
        "id": "ia-WlL05olWP",
        "outputId": "5e8a7cd5-83ec-44d1-898c-3cfdfeb4be54"
      },
      "execution_count": null,
      "outputs": [
        {
          "output_type": "display_data",
          "data": {
            "text/plain": [
              "<Figure size 1440x360 with 2 Axes>"
            ],
            "image/png": "[encoded data removed]"
          },
          "metadata": {
            "needs_background": "light"
          }
        }
      ]
    },
    {
      "cell_type": "markdown",
      "source": [
        "Acima vemos o gráfico da quantidade de novos casos e novas mortes em uma linha do tempo. Podemos ver:\n",
        "* Uma certa estabilidade das ocorrencias logo após o inicio da aplicação das vacinas.\n",
        "* Um aumento dos casos em um nível assustador no início de 2022, devido as novas variantes da doença que surgiram.\n",
        "* Mesmo com o avanço das variantes em 2022, o nível de mortes não superaram os níveis anteriores.  \n"
      ],
      "metadata": {
        "id": "ArGibCZj-dq1"
      }
    },
    {
      "cell_type": "code",
      "source": [
        "fig, ax = plt.subplots(nrows=2,ncols=2,figsize = (20,10))\n",
        "\n",
        "ax[0][0].plot(range(1,len(brazil)+1), brazil.total_cases)\n",
        "ax[0][1].plot(range(1,len(brazil)+1), brazil.total_deaths)\n",
        "ax[1][0].semilogy(range(1,len(brazil)+1), brazil.total_cases)\n",
        "ax[1][1].semilogy(range(1,len(brazil)+1), brazil.total_deaths)"
      ],
      "metadata": {
        "colab": {
          "base_uri": "https://localhost:8080/",
          "height": 620
        },
        "id": "A5zBDaObEWww",
        "outputId": "449d9234-08dd-429f-b168-d556946ce1db"
      },
      "execution_count": null,
      "outputs": [
        {
          "output_type": "execute_result",
          "data": {
            "text/plain": [
              "[<matplotlib.lines.Line2D at 0x7f98630f0190>]"
            ]
          },
          "metadata": {},
          "execution_count": 39
        },
        {
          "output_type": "display_data",
          "data": {
            "text/plain": [
              "<Figure size 1440x720 with 4 Axes>"
            ],
            "image/png": "[encoded data removed]"
          },
          "metadata": {
            "needs_background": "light"
          }
        }
      ]
    },
    {
      "cell_type": "markdown",
      "source": [
        "Por fim, deixo a evolução dos totais de casos e mortes nos Estados Unidos, tanto na base decimal quanto na bae logarítmica."
      ],
      "metadata": {
        "id": "ntCtbclx-dq1"
      }
    },
    {
      "cell_type": "markdown",
      "source": [
        "# Conclusão"
      ],
      "metadata": {
        "id": "KnBRXaQYyVuZ"
      }
    },
    {
      "cell_type": "markdown",
      "source": [
        "Sem dúvidas, a pandemia da COVID19 foi um marco histórico para o mundo, ainda sofremos as consequências da doença, mesmo que de maneira mais amena, foram milhões de casos confirmados e muitas mortes nestes 2 anos.\n",
        "\n",
        "Alguns países como Estados Unidos, Índia e Brasil, foram extremamente afetados e vimos como a vacina em muitos casos foi eficaz em diminuir os efeitos da doença.\n",
        "\n",
        "Por fim, deixo um gráfico comparativo entre os três países citados, dos casos da doença ao longo do tempo."
      ],
      "metadata": {
        "id": "dMusL897_uIp"
      }
    },
    {
      "cell_type": "code",
      "source": [
        "fig, ax = plt.subplots(nrows=1,ncols=2,figsize = (20,5))\n",
        "\n",
        "ax[0].plot(eua.index, eua.new_cases_smoothed, label = 'Estados Unidos')\n",
        "ax[1].plot(eua.index, eua.new_deaths_smoothed, label = 'Estados Unidos')\n",
        "\n",
        "ax[0].plot(india.index, india.new_cases_smoothed,  label = 'Índia')\n",
        "ax[1].plot(india.index, india.new_deaths_smoothed,  label = 'Índia')\n",
        "\n",
        "ax[0].plot(brazil.index, brazil.new_cases_smoothed,  label = 'Brasil')\n",
        "ax[1].plot(brazil.index, brazil.new_deaths_smoothed,  label = 'Brasil')\n",
        "\n",
        "plt.legend()\n",
        "plt.show()"
      ],
      "metadata": {
        "id": "Oku78OXdn9mj",
        "colab": {
          "base_uri": "https://localhost:8080/",
          "height": 320
        },
        "outputId": "a472b1d9-87b3-41aa-dc09-472520de5969"
      },
      "execution_count": null,
      "outputs": [
        {
          "output_type": "display_data",
          "data": {
            "text/plain": [
              "<Figure size 1440x360 with 2 Axes>"
            ],
            "image/png": "[encoded data removed]"
          },
          "metadata": {
            "needs_background": "light"
          }
        }
      ]
    },
    {
      "cell_type": "markdown",
      "source": [
        "Nestes últimos gráficos vemos um pico de ocorrências na Índia no meio de 2021,\n",
        "a discrepância de casos nos Estados Unidos, principalmente em janeiro de 2022,\n",
        "e uma regularidade dos casos no Brasil.\n",
        "\n",
        "Em relação a mortes é possível ver que os três países sofreram, em épocas diferentes, do mesmo nível de prejuízo.  "
      ],
      "metadata": {
        "id": "mcBj7HpLO2wC"
      }
    }
  ]
}